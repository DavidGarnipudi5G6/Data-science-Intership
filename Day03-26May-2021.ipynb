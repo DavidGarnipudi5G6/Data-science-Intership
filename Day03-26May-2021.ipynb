{
 "cells": [
  {
   "cell_type": "code",
   "execution_count": 1,
   "id": "aa3fd173",
   "metadata": {},
   "outputs": [
    {
     "name": "stdout",
     "output_type": "stream",
     "text": [
      "Hello world\n"
     ]
    }
   ],
   "source": [
    "print(\"Hello world\")"
   ]
  },
  {
   "cell_type": "code",
   "execution_count": 2,
   "id": "428c98f7",
   "metadata": {},
   "outputs": [
    {
     "name": "stdout",
     "output_type": "stream",
     "text": [
      "Hello world again\n"
     ]
    }
   ],
   "source": [
    "print(\"Hello world again\")"
   ]
  },
  {
   "cell_type": "markdown",
   "id": "1c599bb2",
   "metadata": {},
   "source": [
    "html -> Hyper Text Markup Language\n",
    "\n",
    "Markdown"
   ]
  },
  {
   "cell_type": "markdown",
   "id": "472b7ebe",
   "metadata": {},
   "source": [
    "# Markdown Syntax\n",
    "\n",
    "## Heading\n",
    "### Heading3\n",
    "#### Heading4\n",
    "##### Heading5\n",
    "###### Heading6\n",
    "\n",
    "\n",
    "\n",
    "<h1> Markdown Syntax</h1>"
   ]
  },
  {
   "cell_type": "markdown",
   "id": "b6ad553e",
   "metadata": {},
   "source": [
    "## Shortcuts for Jupitor Notebook\n",
    "\n",
    "\n",
    "1. ShiftEnter -> For Executing the Current cell\n",
    "2. EscA -> for inserting new cell above the current cell\n",
    "3. EscB -> for inserting new cell below the current cell\n",
    "4. EscM -> Converting code cell to the Markdown Cell\n",
    "5. EscY -> Converting Markdown cell to the code Cell\n",
    "6. EscDD -> Delete the Current Cell\n",
    "7. EscL -> for Toggling the current cell Line Numbers\n",
    "8. Ctrl -> Saving Notebook\n",
    "1. david "
   ]
  },
  {
   "cell_type": "markdown",
   "id": "3b6e2d6c",
   "metadata": {},
   "source": [
    "- Python is easy to Learn\n",
    "- Python is easy to write\n",
    "* Python is open source\n",
    "+ Python is high level Programming Language\n",
    "    - high level means user understandable language\n",
    "         * Which is in English\n",
    "           - Sub\n",
    "             - Sub\n",
    "         - sub2\n",
    "     * Language\n",
    "* Also it is object orinted"
   ]
  },
  {
   "cell_type": "markdown",
   "id": "0256ae5d",
   "metadata": {},
   "source": [
    "1. Main Point\n",
    "   1. Sub Point\n",
    "        1. Sub Sub Point1\n",
    "   2. Sub Point2\n",
    "     \n"
   ]
  },
  {
   "cell_type": "markdown",
   "id": "793457a8",
   "metadata": {},
   "source": [
    "### Font styles\n",
    "\n",
    "\n",
    "- I'm in **Bold** font style\n",
    "- I'm also in__Bold__font style\n",
    "- I'm in *Italitic* font style\n",
    "- I'm also in _Italitic_ font style\n",
    "- I'm in both ***Italitic and Bold*** font style \n",
    "- I'm in both __Italitic and Bold__ font style\n",
    "- I'm ~strike offed~\n",
    "- I'm ~**stike offed and bold**~\n",
    "- I'm ~***strike offed, bpold and italic***~"
   ]
  },
  {
   "cell_type": "markdown",
   "id": "a9bc4578",
   "metadata": {},
   "source": [
    "### Insert Image\n",
    "\n",
    "\n",
    "### Syntax ![Image Description](image path)\n",
    "\n",
    "\n",
    "![Python Logo](https://qph.fs.quoracdn.net/main-qimg-28cadbd02699c25a88e5c78d73c7babc)\n"
   ]
  },
  {
   "cell_type": "markdown",
   "id": "9bf3f5d6",
   "metadata": {},
   "source": [
    "#### Inserting Hyper Link\n",
    "\n",
    "#### [Some Description]\\(Link)\n",
    "\n",
    "\n",
    "[Click Here to view Python Logo](https://qph.fs.quoracdn.net/main-qimg-28cadbd02699c25a88e5c78d73c7babc)\n",
    "\n",
    "\n",
    "\n",
    "https://qph.fs.quoracdn.net/main-qimg-28cadbd02699c25a88e5c78d73c7babc\n",
    "\n",
    "\n"
   ]
  },
  {
   "cell_type": "markdown",
   "id": "33592fee",
   "metadata": {},
   "source": [
    "### Tabular data\n",
    "\n",
    "\n",
    "|Name|RollNo|EmailId|\n",
    "|-----|------|-------|\n",
    "|Std1|Roll1|Email1|\n",
    "|Std2|Rpll2|Email2|"
   ]
  },
  {
   "cell_type": "code",
   "execution_count": null,
   "id": "6f3dddc4",
   "metadata": {},
   "outputs": [],
   "source": []
  }
 ],
 "metadata": {
  "kernelspec": {
   "display_name": "Python 3",
   "language": "python",
   "name": "python3"
  },
  "language_info": {
   "codemirror_mode": {
    "name": "ipython",
    "version": 3
   },
   "file_extension": ".py",
   "mimetype": "text/x-python",
   "name": "python",
   "nbconvert_exporter": "python",
   "pygments_lexer": "ipython3",
   "version": "3.8.8"
  }
 },
 "nbformat": 4,
 "nbformat_minor": 5
}
