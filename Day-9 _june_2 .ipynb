{
 "cells": [
  {
   "cell_type": "markdown",
   "id": "8fddaa79",
   "metadata": {},
   "source": [
    "### recap\n",
    "\n",
    "- Strings\n",
    "- Strings\n",
    "- List Intro\n",
    "\n",
    "### Todays Objectives\n",
    "\n",
    "- accessing elements of List\n",
    "    - Indexing\n",
    "    - Slicing\n",
    "- Listv methods\n",
    "    - Tuples\n",
    "        - Accessing Elements of Tuple\n",
    "        - Indexing\n",
    "        - Slicing\n",
    "    \n",
    "    - Tuple methods"
   ]
  },
  {
   "cell_type": "code",
   "execution_count": 4,
   "id": "f59be70e",
   "metadata": {},
   "outputs": [],
   "source": [
    "li = [1, 2, 5, 4, 8, 85]"
   ]
  },
  {
   "cell_type": "code",
   "execution_count": 5,
   "id": "2408b171",
   "metadata": {},
   "outputs": [
    {
     "name": "stdout",
     "output_type": "stream",
     "text": [
      "6 85 1 105\n"
     ]
    }
   ],
   "source": [
    "print(len(li), max(li), min(li), sum(li))"
   ]
  },
  {
   "cell_type": "code",
   "execution_count": 3,
   "id": "6dd0beca",
   "metadata": {},
   "outputs": [
    {
     "name": "stdout",
     "output_type": "stream",
     "text": [
      "7\n"
     ]
    },
    {
     "ename": "TypeError",
     "evalue": "'<' not supported between instances of 'str' and 'int'",
     "output_type": "error",
     "traceback": [
      "\u001b[1;31m---------------------------------------------------------------------------\u001b[0m",
      "\u001b[1;31mTypeError\u001b[0m                                 Traceback (most recent call last)",
      "\u001b[1;32m<ipython-input-3-93b786f15ec1>\u001b[0m in \u001b[0;36m<module>\u001b[1;34m\u001b[0m\n\u001b[0;32m      4\u001b[0m \u001b[0mprint\u001b[0m\u001b[1;33m(\u001b[0m\u001b[0mlen\u001b[0m\u001b[1;33m(\u001b[0m\u001b[0mli2\u001b[0m\u001b[1;33m)\u001b[0m\u001b[1;33m)\u001b[0m\u001b[1;33m\u001b[0m\u001b[1;33m\u001b[0m\u001b[0m\n\u001b[0;32m      5\u001b[0m \u001b[1;33m\u001b[0m\u001b[0m\n\u001b[1;32m----> 6\u001b[1;33m \u001b[0mprint\u001b[0m\u001b[1;33m(\u001b[0m\u001b[0mmin\u001b[0m\u001b[1;33m(\u001b[0m\u001b[0mli2\u001b[0m\u001b[1;33m)\u001b[0m\u001b[1;33m)\u001b[0m\u001b[1;33m\u001b[0m\u001b[1;33m\u001b[0m\u001b[0m\n\u001b[0m",
      "\u001b[1;31mTypeError\u001b[0m: '<' not supported between instances of 'str' and 'int'"
     ]
    }
   ],
   "source": [
    "li2 = [1, 2, 5, 4, 8, 85, 'python']\n",
    "\n",
    "\n",
    "print(len(li2))\n",
    "\n",
    "print(min(li2))"
   ]
  },
  {
   "cell_type": "markdown",
   "id": "91a6eb19",
   "metadata": {},
   "source": [
    "### Accessing Elements from the list\n",
    "\n",
    "\n",
    "\n"
   ]
  },
  {
   "cell_type": "code",
   "execution_count": 7,
   "id": "56ed4570",
   "metadata": {},
   "outputs": [
    {
     "name": "stdout",
     "output_type": "stream",
     "text": [
      "1\n"
     ]
    }
   ],
   "source": [
    "print(li[0])"
   ]
  },
  {
   "cell_type": "code",
   "execution_count": 8,
   "id": "50ae0635",
   "metadata": {},
   "outputs": [
    {
     "name": "stdout",
     "output_type": "stream",
     "text": [
      "85\n"
     ]
    }
   ],
   "source": [
    "print(li[5])"
   ]
  },
  {
   "cell_type": "code",
   "execution_count": 10,
   "id": "57e20e27",
   "metadata": {},
   "outputs": [
    {
     "name": "stdout",
     "output_type": "stream",
     "text": [
      "8\n"
     ]
    }
   ],
   "source": [
    "print(li[-2])"
   ]
  },
  {
   "cell_type": "code",
   "execution_count": 9,
   "id": "ece7fb6d",
   "metadata": {},
   "outputs": [
    {
     "name": "stdout",
     "output_type": "stream",
     "text": [
      "1\n"
     ]
    }
   ],
   "source": [
    "print(li[-6])"
   ]
  },
  {
   "cell_type": "code",
   "execution_count": 11,
   "id": "4c9a0b63",
   "metadata": {
    "scrolled": true
   },
   "outputs": [
    {
     "ename": "IndexError",
     "evalue": "list index out of range",
     "output_type": "error",
     "traceback": [
      "\u001b[1;31m---------------------------------------------------------------------------\u001b[0m",
      "\u001b[1;31mIndexError\u001b[0m                                Traceback (most recent call last)",
      "\u001b[1;32m<ipython-input-11-c96b4b304720>\u001b[0m in \u001b[0;36m<module>\u001b[1;34m\u001b[0m\n\u001b[1;32m----> 1\u001b[1;33m \u001b[0mprint\u001b[0m\u001b[1;33m(\u001b[0m\u001b[0mli\u001b[0m\u001b[1;33m[\u001b[0m\u001b[1;36m7\u001b[0m\u001b[1;33m]\u001b[0m\u001b[1;33m)\u001b[0m\u001b[1;33m\u001b[0m\u001b[1;33m\u001b[0m\u001b[0m\n\u001b[0m",
      "\u001b[1;31mIndexError\u001b[0m: list index out of range"
     ]
    }
   ],
   "source": [
    "print(li[7])"
   ]
  },
  {
   "cell_type": "code",
   "execution_count": 14,
   "id": "56b8e738",
   "metadata": {},
   "outputs": [
    {
     "ename": "TypeError",
     "evalue": "list indices must be integers or slices, not tuple",
     "output_type": "error",
     "traceback": [
      "\u001b[1;31m---------------------------------------------------------------------------\u001b[0m",
      "\u001b[1;31mTypeError\u001b[0m                                 Traceback (most recent call last)",
      "\u001b[1;32m<ipython-input-14-aeb0b8ff1b7c>\u001b[0m in \u001b[0;36m<module>\u001b[1;34m\u001b[0m\n\u001b[1;32m----> 1\u001b[1;33m \u001b[0mprint\u001b[0m\u001b[1;33m(\u001b[0m\u001b[0mli\u001b[0m\u001b[1;33m[\u001b[0m\u001b[1;36m1\u001b[0m\u001b[1;33m,\u001b[0m\u001b[1;36m2\u001b[0m\u001b[1;33m]\u001b[0m\u001b[1;33m)\u001b[0m\u001b[1;33m\u001b[0m\u001b[1;33m\u001b[0m\u001b[0m\n\u001b[0m",
      "\u001b[1;31mTypeError\u001b[0m: list indices must be integers or slices, not tuple"
     ]
    }
   ],
   "source": [
    "print(li[1,2])"
   ]
  },
  {
   "cell_type": "markdown",
   "id": "f4ed73dc",
   "metadata": {},
   "source": [
    "### syntax\n",
    "\n",
    "list_var[SI: EI]\n"
   ]
  },
  {
   "cell_type": "code",
   "execution_count": 15,
   "id": "1f37384b",
   "metadata": {},
   "outputs": [
    {
     "name": "stdout",
     "output_type": "stream",
     "text": [
      "[1] [1, 2] [1, 2] [1, 2, 5, 4, 8, 85]\n"
     ]
    }
   ],
   "source": [
    "print(li[0:1], li[0:2], li[: 2], li[0:])"
   ]
  },
  {
   "cell_type": "code",
   "execution_count": 17,
   "id": "aaa41ea3",
   "metadata": {},
   "outputs": [
    {
     "name": "stdout",
     "output_type": "stream",
     "text": [
      "[1, 2, 5, 4] [] [8, 85] [8, 85] [1, 2, 5]\n"
     ]
    }
   ],
   "source": [
    "print(li[:-2], li[-1:-3], li[4:], li[len(li) - 2:], li[:-3])"
   ]
  },
  {
   "cell_type": "code",
   "execution_count": 21,
   "id": "e54ad2c8",
   "metadata": {},
   "outputs": [
    {
     "name": "stdout",
     "output_type": "stream",
     "text": [
      "[8, 85] [4, 8, 85]\n"
     ]
    }
   ],
   "source": [
    "print(li[-2: ], li[-3: ])"
   ]
  },
  {
   "cell_type": "code",
   "execution_count": 19,
   "id": "f7178b59",
   "metadata": {},
   "outputs": [
    {
     "name": "stdout",
     "output_type": "stream",
     "text": [
      "[85, 8, 4]\n"
     ]
    }
   ],
   "source": [
    "print(li[: 2:-1])"
   ]
  },
  {
   "cell_type": "code",
   "execution_count": 22,
   "id": "8294fe42",
   "metadata": {},
   "outputs": [
    {
     "data": {
      "text/plain": [
       "[1, 2, 5, 4, 8, 85]"
      ]
     },
     "execution_count": 22,
     "metadata": {},
     "output_type": "execute_result"
    }
   ],
   "source": [
    "li"
   ]
  },
  {
   "cell_type": "code",
   "execution_count": 23,
   "id": "51d0c779",
   "metadata": {},
   "outputs": [
    {
     "name": "stdout",
     "output_type": "stream",
     "text": [
      "[85, 8, 4]\n"
     ]
    }
   ],
   "source": [
    "print(li[:2:-1])"
   ]
  },
  {
   "cell_type": "code",
   "execution_count": 24,
   "id": "110812db",
   "metadata": {},
   "outputs": [
    {
     "name": "stdout",
     "output_type": "stream",
     "text": [
      "[1, 5, 8]\n"
     ]
    }
   ],
   "source": [
    "print(li[: :2])"
   ]
  },
  {
   "cell_type": "code",
   "execution_count": 25,
   "id": "360b9216",
   "metadata": {},
   "outputs": [
    {
     "name": "stdout",
     "output_type": "stream",
     "text": [
      "[85, 4, 2]\n"
     ]
    }
   ],
   "source": [
    "print(li[: :-2])"
   ]
  },
  {
   "cell_type": "code",
   "execution_count": 26,
   "id": "24f0b2b8",
   "metadata": {},
   "outputs": [
    {
     "name": "stdout",
     "output_type": "stream",
     "text": [
      "[1, 2, 5, 4, 8, 85]\n"
     ]
    }
   ],
   "source": [
    "print(li)"
   ]
  },
  {
   "cell_type": "code",
   "execution_count": 28,
   "id": "9c65f0a2",
   "metadata": {},
   "outputs": [
    {
     "name": "stdout",
     "output_type": "stream",
     "text": [
      "[1, 2, 5, 4, 8, 85, 'python']\n"
     ]
    }
   ],
   "source": [
    "print(li2)"
   ]
  },
  {
   "cell_type": "code",
   "execution_count": 29,
   "id": "d0d84936",
   "metadata": {},
   "outputs": [
    {
     "name": "stdout",
     "output_type": "stream",
     "text": [
      "7\n"
     ]
    }
   ],
   "source": [
    "print(len(li2))"
   ]
  },
  {
   "cell_type": "code",
   "execution_count": 34,
   "id": "37f6261e",
   "metadata": {},
   "outputs": [
    {
     "name": "stdout",
     "output_type": "stream",
     "text": [
      "85 85\n"
     ]
    }
   ],
   "source": [
    "print(li[-1], li[5])"
   ]
  },
  {
   "cell_type": "code",
   "execution_count": 35,
   "id": "8f2e04ba",
   "metadata": {},
   "outputs": [
    {
     "name": "stdout",
     "output_type": "stream",
     "text": [
      "python 8\n"
     ]
    }
   ],
   "source": [
    "print(li2[-1], li[-2])"
   ]
  },
  {
   "cell_type": "code",
   "execution_count": 37,
   "id": "0adf9eb2",
   "metadata": {},
   "outputs": [
    {
     "data": {
      "text/plain": [
       "'PYTHON'"
      ]
     },
     "execution_count": 37,
     "metadata": {},
     "output_type": "execute_result"
    }
   ],
   "source": [
    "li2[-1].upper()"
   ]
  },
  {
   "cell_type": "code",
   "execution_count": 38,
   "id": "e0cdbefd",
   "metadata": {},
   "outputs": [
    {
     "data": {
      "text/plain": [
       "'python'"
      ]
     },
     "execution_count": 38,
     "metadata": {},
     "output_type": "execute_result"
    }
   ],
   "source": [
    "li2[-1].strip()"
   ]
  },
  {
   "cell_type": "code",
   "execution_count": 39,
   "id": "efb15519",
   "metadata": {},
   "outputs": [
    {
     "name": "stdout",
     "output_type": "stream",
     "text": [
      "[8, 85, 'python']\n"
     ]
    }
   ],
   "source": [
    "print(li2[-3:])"
   ]
  },
  {
   "cell_type": "code",
   "execution_count": 40,
   "id": "e2d5b6ae",
   "metadata": {},
   "outputs": [
    {
     "name": "stdout",
     "output_type": "stream",
     "text": [
      "[1, 5, 8, 'python']\n"
     ]
    }
   ],
   "source": [
    "print(li2[0: :2])"
   ]
  },
  {
   "cell_type": "code",
   "execution_count": 45,
   "id": "24b4e061",
   "metadata": {},
   "outputs": [
    {
     "name": "stdout",
     "output_type": "stream",
     "text": [
      "['python', 8, 5, 1]\n"
     ]
    }
   ],
   "source": [
    "print(li2[: :-2])"
   ]
  },
  {
   "cell_type": "code",
   "execution_count": 46,
   "id": "4545c139",
   "metadata": {},
   "outputs": [
    {
     "name": "stdout",
     "output_type": "stream",
     "text": [
      "[1, 2, 5, 4, 8, 85, 'python']\n"
     ]
    }
   ],
   "source": [
    "print(li2[::1])"
   ]
  },
  {
   "cell_type": "code",
   "execution_count": 50,
   "id": "50227191",
   "metadata": {},
   "outputs": [
    {
     "name": "stdout",
     "output_type": "stream",
     "text": [
      "['python', 85, 8, 4, 5, 2, 1]\n"
     ]
    }
   ],
   "source": [
    "print(li2[::-1])"
   ]
  },
  {
   "cell_type": "code",
   "execution_count": 53,
   "id": "8671c105",
   "metadata": {},
   "outputs": [
    {
     "name": "stdout",
     "output_type": "stream",
     "text": [
      "[[1, 2, 3], [4, 5, 6], [6, 7, 8]]\n"
     ]
    }
   ],
   "source": [
    "matrix = [[1,2,3],[4,5,6],[6,7,8]]\n",
    "\n",
    "print(matrix)"
   ]
  },
  {
   "cell_type": "code",
   "execution_count": 54,
   "id": "ea3f590d",
   "metadata": {},
   "outputs": [
    {
     "name": "stdout",
     "output_type": "stream",
     "text": [
      "[1, 2, 3]\n"
     ]
    }
   ],
   "source": [
    "print(matrix[0])"
   ]
  },
  {
   "cell_type": "code",
   "execution_count": 55,
   "id": "fce54533",
   "metadata": {},
   "outputs": [
    {
     "name": "stdout",
     "output_type": "stream",
     "text": [
      "1\n"
     ]
    }
   ],
   "source": [
    "print(matrix[0][0])"
   ]
  },
  {
   "cell_type": "code",
   "execution_count": 56,
   "id": "97a3a440",
   "metadata": {},
   "outputs": [
    {
     "name": "stdout",
     "output_type": "stream",
     "text": [
      "5\n"
     ]
    }
   ],
   "source": [
    "print(matrix[1][1])"
   ]
  },
  {
   "cell_type": "code",
   "execution_count": 57,
   "id": "9af6425c",
   "metadata": {},
   "outputs": [
    {
     "name": "stdout",
     "output_type": "stream",
     "text": [
      "[2, 3] [2]\n"
     ]
    }
   ],
   "source": [
    "print(matrix[0][1:], matrix[0][1:2])"
   ]
  },
  {
   "cell_type": "code",
   "execution_count": 59,
   "id": "20d5b4b7",
   "metadata": {},
   "outputs": [
    {
     "name": "stdout",
     "output_type": "stream",
     "text": [
      "[6, 5, 4]\n"
     ]
    }
   ],
   "source": [
    "print(matrix[1][::-1])"
   ]
  },
  {
   "cell_type": "code",
   "execution_count": 66,
   "id": "1f739183",
   "metadata": {},
   "outputs": [
    {
     "name": "stdout",
     "output_type": "stream",
     "text": [
      "3 8\n"
     ]
    }
   ],
   "source": [
    "print(len(matrix[2]), max(matrix[2]))"
   ]
  },
  {
   "cell_type": "code",
   "execution_count": 68,
   "id": "c6c0f6b5",
   "metadata": {},
   "outputs": [
    {
     "name": "stdout",
     "output_type": "stream",
     "text": [
      "[2]\n"
     ]
    }
   ],
   "source": [
    "print(matrix[0][1:2])"
   ]
  },
  {
   "cell_type": "code",
   "execution_count": 69,
   "id": "4e986888",
   "metadata": {},
   "outputs": [
    {
     "name": "stdout",
     "output_type": "stream",
     "text": [
      "[1, 2, 3]\n",
      "[4, 5, 6]\n",
      "[6, 7, 8]\n"
     ]
    }
   ],
   "source": [
    "for ele in matrix:\n",
    "    print(ele)"
   ]
  },
  {
   "cell_type": "code",
   "execution_count": 70,
   "id": "abb8405b",
   "metadata": {},
   "outputs": [
    {
     "name": "stdout",
     "output_type": "stream",
     "text": [
      "1\n",
      "2\n",
      "5\n",
      "4\n",
      "8\n",
      "85\n"
     ]
    }
   ],
   "source": [
    "for ele in li:\n",
    "    print(ele)"
   ]
  },
  {
   "cell_type": "code",
   "execution_count": 71,
   "id": "b593c85f",
   "metadata": {},
   "outputs": [
    {
     "name": "stdout",
     "output_type": "stream",
     "text": [
      "2\n",
      "5\n",
      "7\n"
     ]
    }
   ],
   "source": [
    "for i in range(3):\n",
    "    for j in range(3):\n",
    "        if j==1:\n",
    "            print(matrix[i][j])"
   ]
  },
  {
   "cell_type": "code",
   "execution_count": 72,
   "id": "5650ef14",
   "metadata": {},
   "outputs": [
    {
     "name": "stdout",
     "output_type": "stream",
     "text": [
      "2\n",
      "5\n",
      "7\n"
     ]
    }
   ],
   "source": [
    "for ele in matrix:\n",
    "    print(ele[1])"
   ]
  },
  {
   "cell_type": "code",
   "execution_count": 74,
   "id": "8c6588c3",
   "metadata": {},
   "outputs": [
    {
     "name": "stdout",
     "output_type": "stream",
     "text": [
      "[2, 3]\n",
      "[5, 6]\n",
      "[7, 8]\n",
      "2 3\n",
      "5 6\n",
      "7 8\n"
     ]
    }
   ],
   "source": [
    "for ele in matrix:\n",
    "    print(ele[1:])\n",
    "    \n",
    "for ele in matrix:\n",
    "    print(ele[1], ele[2])"
   ]
  },
  {
   "cell_type": "markdown",
   "id": "6434a9e8",
   "metadata": {},
   "source": [
    "### List Methods "
   ]
  },
  {
   "cell_type": "code",
   "execution_count": 75,
   "id": "e9f6e98b",
   "metadata": {},
   "outputs": [],
   "source": [
    "empty = []"
   ]
  },
  {
   "cell_type": "code",
   "execution_count": 78,
   "id": "1b1128d2",
   "metadata": {},
   "outputs": [
    {
     "name": "stdout",
     "output_type": "stream",
     "text": [
      "[5, 55, 5, 55, [1, 2, 3]]\n"
     ]
    }
   ],
   "source": [
    "empty.append(5)\n",
    "empty.append(55)\n",
    "empty.append([1,2,3])\n",
    "\n",
    "print(empty)"
   ]
  },
  {
   "cell_type": "code",
   "execution_count": 79,
   "id": "263389dc",
   "metadata": {},
   "outputs": [
    {
     "name": "stdout",
     "output_type": "stream",
     "text": [
      "[5, 55, 5, 55, [1, 2, 3]]\n"
     ]
    }
   ],
   "source": [
    "print(empty)"
   ]
  },
  {
   "cell_type": "code",
   "execution_count": 81,
   "id": "046ab231",
   "metadata": {},
   "outputs": [
    {
     "name": "stdout",
     "output_type": "stream",
     "text": [
      "Enter elements to add to listhfh jjf 468\n",
      "Enter elements to add to list5\n",
      "Enter elements to add to list343\n",
      "Enter elements to add to list3ui\n",
      "Enter elements to add to listjdjd\n"
     ]
    }
   ],
   "source": [
    "for i in range(5):4\n",
    "    \n",
    "    empty.append(input(\"Enter elements to add to list\"))"
   ]
  },
  {
   "cell_type": "code",
   "execution_count": 82,
   "id": "ec6586d9",
   "metadata": {},
   "outputs": [
    {
     "name": "stdout",
     "output_type": "stream",
     "text": [
      "[5, 55, 5, 55, [1, 2, 3], 'hfh jjf 468', '5', '343', '3ui', 'jdjd']\n"
     ]
    }
   ],
   "source": [
    "print(empty)"
   ]
  },
  {
   "cell_type": "code",
   "execution_count": 1,
   "id": "b9ad777f",
   "metadata": {},
   "outputs": [
    {
     "ename": "MemoryError",
     "evalue": "",
     "output_type": "error",
     "traceback": [
      "\u001b[1;31m---------------------------------------------------------------------------\u001b[0m",
      "\u001b[1;31mMemoryError\u001b[0m                               Traceback (most recent call last)",
      "\u001b[1;32m<ipython-input-1-66d9a78a25a4>\u001b[0m in \u001b[0;36m<module>\u001b[1;34m\u001b[0m\n\u001b[0;32m      1\u001b[0m \u001b[0ma\u001b[0m\u001b[1;33m=\u001b[0m\u001b[1;33m[\u001b[0m\u001b[1;34m'a'\u001b[0m\u001b[1;33m]\u001b[0m\u001b[1;33m\u001b[0m\u001b[1;33m\u001b[0m\u001b[0m\n\u001b[0;32m      2\u001b[0m \u001b[1;32mfor\u001b[0m \u001b[0mi\u001b[0m \u001b[1;32min\u001b[0m \u001b[0ma\u001b[0m\u001b[1;33m:\u001b[0m\u001b[1;33m\u001b[0m\u001b[1;33m\u001b[0m\u001b[0m\n\u001b[1;32m----> 3\u001b[1;33m     \u001b[0ma\u001b[0m\u001b[1;33m.\u001b[0m\u001b[0mappend\u001b[0m\u001b[1;33m(\u001b[0m\u001b[0mi\u001b[0m\u001b[1;33m.\u001b[0m\u001b[0mupper\u001b[0m\u001b[1;33m(\u001b[0m\u001b[1;33m)\u001b[0m\u001b[1;33m)\u001b[0m\u001b[1;33m\u001b[0m\u001b[1;33m\u001b[0m\u001b[0m\n\u001b[0m\u001b[0;32m      4\u001b[0m \u001b[1;33m\u001b[0m\u001b[0m\n\u001b[0;32m      5\u001b[0m \u001b[0mprint\u001b[0m\u001b[1;33m(\u001b[0m\u001b[0ma\u001b[0m\u001b[1;33m)\u001b[0m\u001b[1;33m\u001b[0m\u001b[1;33m\u001b[0m\u001b[0m\n",
      "\u001b[1;31mMemoryError\u001b[0m: "
     ]
    }
   ],
   "source": [
    "a=['a']\n",
    "for i in a:\n",
    "    a.append(i.upper())\n",
    "    \n",
    "print(a)"
   ]
  },
  {
   "cell_type": "code",
   "execution_count": 2,
   "id": "d71a9eda",
   "metadata": {},
   "outputs": [
    {
     "ename": "MemoryError",
     "evalue": "",
     "output_type": "error",
     "traceback": [
      "\u001b[1;31m---------------------------------------------------------------------------\u001b[0m",
      "\u001b[1;31mMemoryError\u001b[0m                               Traceback (most recent call last)",
      "\u001b[1;32m<ipython-input-2-bca0e2660b9f>\u001b[0m in \u001b[0;36m<module>\u001b[1;34m\u001b[0m\n\u001b[1;32m----> 1\u001b[1;33m \u001b[0mprint\u001b[0m\u001b[1;33m(\u001b[0m\u001b[0ma\u001b[0m\u001b[1;33m)\u001b[0m\u001b[1;33m\u001b[0m\u001b[1;33m\u001b[0m\u001b[0m\n\u001b[0m",
      "\u001b[1;31mMemoryError\u001b[0m: "
     ]
    }
   ],
   "source": [
    "print(a)"
   ]
  },
  {
   "cell_type": "code",
   "execution_count": 3,
   "id": "9dd1a33e",
   "metadata": {},
   "outputs": [],
   "source": [
    "li = [1,2,3,4]\n",
    "\n",
    "empty = [5, 55, [1, 2, 3], '53', 'gdf', 'dgd', '343', '5']"
   ]
  },
  {
   "cell_type": "code",
   "execution_count": 4,
   "id": "be34390e",
   "metadata": {},
   "outputs": [
    {
     "name": "stdout",
     "output_type": "stream",
     "text": [
      "[5, 55, [1, 2, 3], '53', 'gdf', 'dgd', '343', '5', 1, 2, 3, 4]\n"
     ]
    }
   ],
   "source": [
    "empty.extend(li)\n",
    "\n",
    "print(empty)"
   ]
  },
  {
   "cell_type": "code",
   "execution_count": 5,
   "id": "69ce9268",
   "metadata": {},
   "outputs": [
    {
     "name": "stdout",
     "output_type": "stream",
     "text": [
      "[5, 55, [1, 2, 3], '53', 'gdf', 'dgd', '343', '5', 1, 2, 3, 4, 1, 2, 3, 4]\n"
     ]
    }
   ],
   "source": [
    "print(empty + li)"
   ]
  },
  {
   "cell_type": "code",
   "execution_count": 6,
   "id": "ecda0584",
   "metadata": {},
   "outputs": [
    {
     "name": "stdout",
     "output_type": "stream",
     "text": [
      "[5, 55, [1, 2, 3], '53', 'gdf', 'dgd', '343', '5', 1, 2, 3, 4, 1, 2, 3, 4]\n"
     ]
    }
   ],
   "source": [
    "emp2 = empty + li\n",
    "\n",
    "print(emp2)"
   ]
  },
  {
   "cell_type": "code",
   "execution_count": 7,
   "id": "09d90ee3",
   "metadata": {},
   "outputs": [
    {
     "name": "stdout",
     "output_type": "stream",
     "text": [
      "[1, 2, 3]\n"
     ]
    }
   ],
   "source": [
    "print(emp2[2])"
   ]
  },
  {
   "cell_type": "code",
   "execution_count": 8,
   "id": "f1c0fb19",
   "metadata": {},
   "outputs": [
    {
     "name": "stdout",
     "output_type": "stream",
     "text": [
      "[5, 55, [1, 2, 3, 4], '53', 'gdf', 'dgd', '343', '5', 1, 2, 3, 4, 1, 2, 3, 4]\n"
     ]
    }
   ],
   "source": [
    "emp2[2] = li\n",
    "\n",
    "print(emp2)"
   ]
  },
  {
   "cell_type": "code",
   "execution_count": 9,
   "id": "e229c855",
   "metadata": {},
   "outputs": [
    {
     "name": "stdout",
     "output_type": "stream",
     "text": [
      "[5, 55, 1, 2, 3, 4, 'gdf', 'dgd', '343', '5', 1, 2, 3, 4, 1, 2, 3, 4]\n"
     ]
    }
   ],
   "source": [
    "emp2[2:4] = li\n",
    "\n",
    "print(emp2)"
   ]
  },
  {
   "cell_type": "code",
   "execution_count": 10,
   "id": "4efb6535",
   "metadata": {},
   "outputs": [
    {
     "name": "stdout",
     "output_type": "stream",
     "text": [
      "[5, 10, 55, 1, 2, 3, 4, 'gdf', 'dgd', '343', '5', 1, 2, 3, 4, 1, 2, 3, 4]\n"
     ]
    }
   ],
   "source": [
    "emp2.insert(1, 10)\n",
    "\n",
    "print(emp2)"
   ]
  },
  {
   "cell_type": "code",
   "execution_count": 11,
   "id": "d6c7af7a",
   "metadata": {},
   "outputs": [
    {
     "name": "stdout",
     "output_type": "stream",
     "text": [
      "[5, 10, 55, 1, 2, 3, 4, 'gdf', 'dgd', '343', '5', 1, 2, 3, 4, 1, 2, 3]\n"
     ]
    }
   ],
   "source": [
    "emp2.pop()\n",
    "\n",
    "print(emp2) # LIFO -> Last In First Out"
   ]
  },
  {
   "cell_type": "code",
   "execution_count": 12,
   "id": "f8db4134",
   "metadata": {},
   "outputs": [
    {
     "name": "stdout",
     "output_type": "stream",
     "text": [
      "[5, 10, 1, 2, 3, 4, 'gdf', 'dgd', '343', '5', 1, 2, 3, 4, 1, 2, 3]\n"
     ]
    }
   ],
   "source": [
    "emp2.pop(2)\n",
    "\n",
    "print(emp2)"
   ]
  },
  {
   "cell_type": "code",
   "execution_count": 13,
   "id": "1e4ac57a",
   "metadata": {},
   "outputs": [
    {
     "ename": "IndexError",
     "evalue": "pop index out of range",
     "output_type": "error",
     "traceback": [
      "\u001b[1;31m---------------------------------------------------------------------------\u001b[0m",
      "\u001b[1;31mIndexError\u001b[0m                                Traceback (most recent call last)",
      "\u001b[1;32m<ipython-input-13-bfab930aa297>\u001b[0m in \u001b[0;36m<module>\u001b[1;34m\u001b[0m\n\u001b[1;32m----> 1\u001b[1;33m \u001b[0memp2\u001b[0m\u001b[1;33m.\u001b[0m\u001b[0mpop\u001b[0m\u001b[1;33m(\u001b[0m\u001b[1;36m100\u001b[0m\u001b[1;33m)\u001b[0m\u001b[1;33m\u001b[0m\u001b[1;33m\u001b[0m\u001b[0m\n\u001b[0m\u001b[0;32m      2\u001b[0m \u001b[1;33m\u001b[0m\u001b[0m\n\u001b[0;32m      3\u001b[0m \u001b[0mprint\u001b[0m\u001b[1;33m(\u001b[0m\u001b[0memp2\u001b[0m\u001b[1;33m)\u001b[0m\u001b[1;33m\u001b[0m\u001b[1;33m\u001b[0m\u001b[0m\n",
      "\u001b[1;31mIndexError\u001b[0m: pop index out of range"
     ]
    }
   ],
   "source": [
    "emp2.pop(100)\n",
    "\n",
    "print(emp2)"
   ]
  },
  {
   "cell_type": "code",
   "execution_count": 14,
   "id": "a58ebde1",
   "metadata": {},
   "outputs": [],
   "source": [
    "emp2.remove('gdf')"
   ]
  },
  {
   "cell_type": "code",
   "execution_count": 15,
   "id": "d6f29e2b",
   "metadata": {},
   "outputs": [
    {
     "name": "stdout",
     "output_type": "stream",
     "text": [
      "[5, 10, 1, 2, 3, 4, 'dgd', '343', '5', 1, 2, 3, 4, 1, 2, 3]\n"
     ]
    }
   ],
   "source": [
    "print(emp2)"
   ]
  },
  {
   "cell_type": "code",
   "execution_count": 16,
   "id": "125e0fb3",
   "metadata": {},
   "outputs": [
    {
     "ename": "ValueError",
     "evalue": "list.remove(x): x not in list",
     "output_type": "error",
     "traceback": [
      "\u001b[1;31m---------------------------------------------------------------------------\u001b[0m",
      "\u001b[1;31mValueError\u001b[0m                                Traceback (most recent call last)",
      "\u001b[1;32m<ipython-input-16-d29e36b460c0>\u001b[0m in \u001b[0;36m<module>\u001b[1;34m\u001b[0m\n\u001b[1;32m----> 1\u001b[1;33m \u001b[0mprint\u001b[0m\u001b[1;33m(\u001b[0m\u001b[0memp2\u001b[0m\u001b[1;33m.\u001b[0m\u001b[0mremove\u001b[0m\u001b[1;33m(\u001b[0m\u001b[1;34m'gdf'\u001b[0m\u001b[1;33m)\u001b[0m\u001b[1;33m)\u001b[0m\u001b[1;33m\u001b[0m\u001b[1;33m\u001b[0m\u001b[0m\n\u001b[0m",
      "\u001b[1;31mValueError\u001b[0m: list.remove(x): x not in list"
     ]
    }
   ],
   "source": [
    "print(emp2.remove('gdf'))"
   ]
  },
  {
   "cell_type": "code",
   "execution_count": 17,
   "id": "4ab919b9",
   "metadata": {},
   "outputs": [
    {
     "name": "stdout",
     "output_type": "stream",
     "text": [
      "3\n",
      "[5, 10, 1, 2, 3, 4, 'dgd', '343', '5', 1, 2, 3, 4, 1, 2]\n"
     ]
    }
   ],
   "source": [
    "print(emp2.pop())\n",
    "\n",
    "\n",
    "print(emp2)"
   ]
  },
  {
   "cell_type": "code",
   "execution_count": 18,
   "id": "095a6b05",
   "metadata": {},
   "outputs": [
    {
     "name": "stdout",
     "output_type": "stream",
     "text": [
      "[5, 10, 1, 2, 3, 4, 'dgd', '343', '5', 1, 2, 3, 4, 1, 2] [5, 10, 1, 2, 3, 4, 'dgd', '343', '5', 1, 2, 3, 4, 1, 2]\n"
     ]
    }
   ],
   "source": [
    "emp3 = emp2\n",
    "\n",
    "print(emp3, emp2)"
   ]
  },
  {
   "cell_type": "code",
   "execution_count": 19,
   "id": "c7538281",
   "metadata": {},
   "outputs": [
    {
     "name": "stdout",
     "output_type": "stream",
     "text": [
      "52979080 52979080\n"
     ]
    }
   ],
   "source": [
    "print(id(emp2), id(emp3))"
   ]
  },
  {
   "cell_type": "code",
   "execution_count": 20,
   "id": "c15de771",
   "metadata": {},
   "outputs": [
    {
     "name": "stdout",
     "output_type": "stream",
     "text": [
      "2\n",
      "[5, 10, 1, 2, 3, 4, 'dgd', '343', '5', 1, 2, 3, 4, 1] [5, 10, 1, 2, 3, 4, 'dgd', '343', '5', 1, 2, 3, 4, 1]\n"
     ]
    }
   ],
   "source": [
    "print(emp3.pop())\n",
    "\n",
    "print(emp2, emp3)"
   ]
  },
  {
   "cell_type": "code",
   "execution_count": 21,
   "id": "ef872adf",
   "metadata": {},
   "outputs": [
    {
     "name": "stdout",
     "output_type": "stream",
     "text": [
      "52979080 52963112\n",
      "[5, 10, 1, 2, 3, 4, 'dgd', '343', '5', 1, 2, 3, 4, 1] [5, 10, 1, 2, 3, 4, 'dgd', '343', '5', 1, 2, 3, 4, 1]\n"
     ]
    }
   ],
   "source": [
    "emp3 = emp2.copy()\n",
    "\n",
    "\n",
    "print(id(emp2), id(emp3))\n",
    "print(emp2, emp3)"
   ]
  },
  {
   "cell_type": "code",
   "execution_count": 22,
   "id": "69857a3a",
   "metadata": {},
   "outputs": [
    {
     "name": "stdout",
     "output_type": "stream",
     "text": [
      "1\n",
      "[5, 10, 1, 2, 3, 4, 'dgd', '343', '5', 1, 2, 3, 4, 1] [5, 10, 1, 2, 3, 4, 'dgd', '343', '5', 1, 2, 3, 4]\n"
     ]
    }
   ],
   "source": [
    "print(emp3.pop())\n",
    "\n",
    "print(emp2, emp3)"
   ]
  },
  {
   "cell_type": "code",
   "execution_count": 23,
   "id": "3a579327",
   "metadata": {},
   "outputs": [
    {
     "name": "stdout",
     "output_type": "stream",
     "text": [
      "3\n"
     ]
    }
   ],
   "source": [
    "print(emp2.count(1))"
   ]
  },
  {
   "cell_type": "code",
   "execution_count": 24,
   "id": "3e5492e7",
   "metadata": {},
   "outputs": [
    {
     "name": "stdout",
     "output_type": "stream",
     "text": [
      "6\n"
     ]
    }
   ],
   "source": [
    "print(emp2.index('dgd'))"
   ]
  },
  {
   "cell_type": "code",
   "execution_count": 25,
   "id": "27dd95ac",
   "metadata": {},
   "outputs": [
    {
     "ename": "ValueError",
     "evalue": "'dgda' is not in list",
     "output_type": "error",
     "traceback": [
      "\u001b[1;31m---------------------------------------------------------------------------\u001b[0m",
      "\u001b[1;31mValueError\u001b[0m                                Traceback (most recent call last)",
      "\u001b[1;32m<ipython-input-25-072296294b17>\u001b[0m in \u001b[0;36m<module>\u001b[1;34m\u001b[0m\n\u001b[1;32m----> 1\u001b[1;33m \u001b[0mprint\u001b[0m\u001b[1;33m(\u001b[0m\u001b[0memp2\u001b[0m\u001b[1;33m.\u001b[0m\u001b[0mindex\u001b[0m\u001b[1;33m(\u001b[0m\u001b[1;34m'dgda'\u001b[0m\u001b[1;33m)\u001b[0m\u001b[1;33m)\u001b[0m\u001b[1;33m\u001b[0m\u001b[1;33m\u001b[0m\u001b[0m\n\u001b[0m",
      "\u001b[1;31mValueError\u001b[0m: 'dgda' is not in list"
     ]
    }
   ],
   "source": [
    "print(emp2.index('dgda'))"
   ]
  },
  {
   "cell_type": "code",
   "execution_count": 26,
   "id": "aedf65b1",
   "metadata": {},
   "outputs": [
    {
     "name": "stdout",
     "output_type": "stream",
     "text": [
      "[1, 4, 3, 2, 1, '5', '343', 'dgd', 4, 3, 2, 1, 10, 5]\n"
     ]
    }
   ],
   "source": [
    "emp2.reverse()\n",
    "\n",
    "print(emp2)"
   ]
  },
  {
   "cell_type": "code",
   "execution_count": 27,
   "id": "0fef2065",
   "metadata": {},
   "outputs": [
    {
     "ename": "TypeError",
     "evalue": "'<' not supported between instances of 'str' and 'int'",
     "output_type": "error",
     "traceback": [
      "\u001b[1;31m---------------------------------------------------------------------------\u001b[0m",
      "\u001b[1;31mTypeError\u001b[0m                                 Traceback (most recent call last)",
      "\u001b[1;32m<ipython-input-27-d9096d7c8955>\u001b[0m in \u001b[0;36m<module>\u001b[1;34m\u001b[0m\n\u001b[1;32m----> 1\u001b[1;33m \u001b[0memp3\u001b[0m\u001b[1;33m.\u001b[0m\u001b[0msort\u001b[0m\u001b[1;33m(\u001b[0m\u001b[1;33m)\u001b[0m\u001b[1;33m\u001b[0m\u001b[1;33m\u001b[0m\u001b[0m\n\u001b[0m\u001b[0;32m      2\u001b[0m \u001b[1;33m\u001b[0m\u001b[0m\n\u001b[0;32m      3\u001b[0m \u001b[1;33m\u001b[0m\u001b[0m\n\u001b[0;32m      4\u001b[0m \u001b[0mprint\u001b[0m\u001b[1;33m(\u001b[0m\u001b[0memp3\u001b[0m\u001b[1;33m)\u001b[0m\u001b[1;33m\u001b[0m\u001b[1;33m\u001b[0m\u001b[0m\n",
      "\u001b[1;31mTypeError\u001b[0m: '<' not supported between instances of 'str' and 'int'"
     ]
    }
   ],
   "source": [
    "emp3.sort()\n",
    "\n",
    "\n",
    "print(emp3)"
   ]
  },
  {
   "cell_type": "code",
   "execution_count": 28,
   "id": "643ba4fe",
   "metadata": {},
   "outputs": [
    {
     "name": "stdout",
     "output_type": "stream",
     "text": [
      "[3, 4, 5, 6, 9, 22, 66, 77, 345]\n"
     ]
    }
   ],
   "source": [
    "li = [5,3,6,22,77,4,66,9,345]\n",
    "li.sort()\n",
    "\n",
    "print(li)"
   ]
  },
  {
   "cell_type": "code",
   "execution_count": 29,
   "id": "5eaf46df",
   "metadata": {},
   "outputs": [
    {
     "name": "stdout",
     "output_type": "stream",
     "text": [
      "[345, 77, 66, 22, 9, 6, 5, 4, 3]\n"
     ]
    }
   ],
   "source": [
    "li = [5,3,6,22,77,4,66,9,345]\n",
    "li.sort(reverse=True)\n",
    "\n",
    "print(li)"
   ]
  },
  {
   "cell_type": "code",
   "execution_count": 30,
   "id": "9b723885",
   "metadata": {},
   "outputs": [
    {
     "name": "stdout",
     "output_type": "stream",
     "text": [
      "[[1, 20, 3], [4, 5, 6], [6, 75, 8]]\n"
     ]
    }
   ],
   "source": [
    "matrix = [[1,20,3],[4,5,6], [6,75,8]]\n",
    "\n",
    "print(matrix)"
   ]
  },
  {
   "cell_type": "code",
   "execution_count": 31,
   "id": "9d542efe",
   "metadata": {},
   "outputs": [
    {
     "name": "stdout",
     "output_type": "stream",
     "text": [
      "[[6, 75, 8], [35, 5, 6], [40, 20, 3]]\n"
     ]
    }
   ],
   "source": [
    "matrix = [[40,20,3],[35,5,6],[6,75,8]]\n",
    "\n",
    "\n",
    "matrix.sort()\n",
    "\n",
    "\n",
    "print(matrix)"
   ]
  },
  {
   "cell_type": "code",
   "execution_count": null,
   "id": "51664162",
   "metadata": {},
   "outputs": [],
   "source": [
    "matrix = [[40,20,3],[35,5,6], [6,75,8]]\n",
    "\n",
    "\n",
    "matrix.sort(key = lambda x :x[1])\n",
    "\n",
    "\n",
    "print(matrix)"
   ]
  },
  {
   "cell_type": "code",
   "execution_count": 32,
   "id": "8be17e5a",
   "metadata": {},
   "outputs": [
    {
     "name": "stdout",
     "output_type": "stream",
     "text": [
      "[[6, 75, 8], [35, 5, 6], [40, 20, 3]]\n",
      "[[6, 75, 8], [35, 5, 6], [40, 20, 3]]\n"
     ]
    }
   ],
   "source": [
    "print(sorted(matrix))\n",
    "\n",
    "\n",
    "print(matrix)"
   ]
  },
  {
   "cell_type": "code",
   "execution_count": 33,
   "id": "22cdb536",
   "metadata": {},
   "outputs": [
    {
     "name": "stdout",
     "output_type": "stream",
     "text": [
      "[[40, 20, 3], [35, 5, 6], [6, 75, 8]]\n"
     ]
    }
   ],
   "source": [
    "print(list(reversed(matrix)))"
   ]
  },
  {
   "cell_type": "code",
   "execution_count": 34,
   "id": "2c1d9b7c",
   "metadata": {},
   "outputs": [
    {
     "name": "stdout",
     "output_type": "stream",
     "text": [
      "[]\n"
     ]
    }
   ],
   "source": [
    "emp3.clear()\n",
    "\n",
    "\n",
    "print(emp3)"
   ]
  },
  {
   "cell_type": "code",
   "execution_count": 35,
   "id": "688595d7",
   "metadata": {},
   "outputs": [
    {
     "ename": "NameError",
     "evalue": "name 'emp3' is not defined",
     "output_type": "error",
     "traceback": [
      "\u001b[1;31m---------------------------------------------------------------------------\u001b[0m",
      "\u001b[1;31mNameError\u001b[0m                                 Traceback (most recent call last)",
      "\u001b[1;32m<ipython-input-35-70167493e5a1>\u001b[0m in \u001b[0;36m<module>\u001b[1;34m\u001b[0m\n\u001b[0;32m      1\u001b[0m \u001b[1;32mdel\u001b[0m \u001b[0memp3\u001b[0m\u001b[1;33m\u001b[0m\u001b[1;33m\u001b[0m\u001b[0m\n\u001b[0;32m      2\u001b[0m \u001b[1;33m\u001b[0m\u001b[0m\n\u001b[1;32m----> 3\u001b[1;33m \u001b[0mprint\u001b[0m\u001b[1;33m(\u001b[0m\u001b[0memp3\u001b[0m\u001b[1;33m)\u001b[0m\u001b[1;33m\u001b[0m\u001b[1;33m\u001b[0m\u001b[0m\n\u001b[0m",
      "\u001b[1;31mNameError\u001b[0m: name 'emp3' is not defined"
     ]
    }
   ],
   "source": [
    "del emp3\n",
    "\n",
    "print(emp3)"
   ]
  },
  {
   "cell_type": "markdown",
   "id": "755ab289",
   "metadata": {},
   "source": [
    "### Tuples\n",
    "\n",
    "- Storing the Group of non-homogenous group of data\n",
    "\n",
    "- Is is created using ()\n",
    "- It is immutable\n",
    "- it is iterable\n",
    "- it is ordered"
   ]
  },
  {
   "cell_type": "code",
   "execution_count": 36,
   "id": "ddce2f25",
   "metadata": {},
   "outputs": [],
   "source": [
    "t1 = ()\n",
    "t2 = tuple()"
   ]
  },
  {
   "cell_type": "code",
   "execution_count": 37,
   "id": "0452fd54",
   "metadata": {},
   "outputs": [],
   "source": [
    "t1 = (1,2,3,4, 'Python', (1,2,3), [1,2,3])"
   ]
  },
  {
   "cell_type": "code",
   "execution_count": 38,
   "id": "ac6c2c7e",
   "metadata": {},
   "outputs": [
    {
     "name": "stdout",
     "output_type": "stream",
     "text": [
      "1 [1, 2, 3] 3 (1, 2, 3)\n"
     ]
    }
   ],
   "source": [
    "print(t1[0], t1[-1], t1[2], t1[-2])"
   ]
  },
  {
   "cell_type": "code",
   "execution_count": 39,
   "id": "badaddf2",
   "metadata": {},
   "outputs": [
    {
     "name": "stdout",
     "output_type": "stream",
     "text": [
      "(1, 2)\n"
     ]
    }
   ],
   "source": [
    "print(t1[0:2])"
   ]
  },
  {
   "cell_type": "code",
   "execution_count": 40,
   "id": "2b97e643",
   "metadata": {},
   "outputs": [
    {
     "ename": "TypeError",
     "evalue": "'tuple' object does not support item assignment",
     "output_type": "error",
     "traceback": [
      "\u001b[1;31m---------------------------------------------------------------------------\u001b[0m",
      "\u001b[1;31mTypeError\u001b[0m                                 Traceback (most recent call last)",
      "\u001b[1;32m<ipython-input-40-f8552766aa0a>\u001b[0m in \u001b[0;36m<module>\u001b[1;34m\u001b[0m\n\u001b[1;32m----> 1\u001b[1;33m \u001b[0mt1\u001b[0m\u001b[1;33m[\u001b[0m\u001b[1;36m0\u001b[0m\u001b[1;33m]\u001b[0m \u001b[1;33m=\u001b[0m \u001b[1;36m55\u001b[0m\u001b[1;33m\u001b[0m\u001b[1;33m\u001b[0m\u001b[0m\n\u001b[0m",
      "\u001b[1;31mTypeError\u001b[0m: 'tuple' object does not support item assignment"
     ]
    }
   ],
   "source": [
    "t1[0] = 55"
   ]
  },
  {
   "cell_type": "code",
   "execution_count": 41,
   "id": "a0e67210",
   "metadata": {},
   "outputs": [],
   "source": [
    "t1 = (1,2,3,4, 'Python', (1,2,3), [1,2,3])\n",
    "\n",
    "t1[-1].append(5)"
   ]
  },
  {
   "cell_type": "code",
   "execution_count": 42,
   "id": "6eb77cfd",
   "metadata": {},
   "outputs": [
    {
     "data": {
      "text/plain": [
       "(1, 2, 3, 4, 'Python', (1, 2, 3), [1, 2, 3, 5])"
      ]
     },
     "execution_count": 42,
     "metadata": {},
     "output_type": "execute_result"
    }
   ],
   "source": [
    "t1"
   ]
  },
  {
   "cell_type": "code",
   "execution_count": 43,
   "id": "5ed3d355",
   "metadata": {},
   "outputs": [
    {
     "name": "stdout",
     "output_type": "stream",
     "text": [
      "1\n",
      "2\n",
      "3\n",
      "4\n",
      "Python\n",
      "(1, 2, 3)\n",
      "[1, 2, 3, 5]\n"
     ]
    }
   ],
   "source": [
    "for ele in t1:\n",
    "    print(ele)"
   ]
  },
  {
   "cell_type": "code",
   "execution_count": 44,
   "id": "c5efd7c7",
   "metadata": {},
   "outputs": [
    {
     "name": "stdout",
     "output_type": "stream",
     "text": [
      "1\n",
      "2\n",
      "3\n",
      "4\n",
      "Python\n",
      "(1, 2, 3)\n",
      "[1, 2, 3, 5]\n"
     ]
    }
   ],
   "source": [
    "for ele in t1:\n",
    "    print(ele)"
   ]
  },
  {
   "cell_type": "code",
   "execution_count": 45,
   "id": "d9aa1a3b",
   "metadata": {},
   "outputs": [
    {
     "name": "stdout",
     "output_type": "stream",
     "text": [
      "7\n"
     ]
    }
   ],
   "source": [
    "print(len(t1))"
   ]
  },
  {
   "cell_type": "markdown",
   "id": "a827b16f",
   "metadata": {},
   "source": [
    "### Tuple Methods"
   ]
  },
  {
   "cell_type": "code",
   "execution_count": 46,
   "id": "15f67ddc",
   "metadata": {},
   "outputs": [
    {
     "name": "stdout",
     "output_type": "stream",
     "text": [
      "1\n"
     ]
    }
   ],
   "source": [
    "print(t1.count(1))"
   ]
  },
  {
   "cell_type": "code",
   "execution_count": 47,
   "id": "2c5102aa",
   "metadata": {},
   "outputs": [
    {
     "name": "stdout",
     "output_type": "stream",
     "text": [
      "4\n"
     ]
    }
   ],
   "source": [
    "print(t1.index('Python'))"
   ]
  },
  {
   "cell_type": "code",
   "execution_count": 48,
   "id": "4f04888b",
   "metadata": {},
   "outputs": [
    {
     "name": "stdout",
     "output_type": "stream",
     "text": [
      "yo\n",
      "yyyyy\n"
     ]
    }
   ],
   "source": [
    "print('y' + 'o')\n",
    "\n",
    "print('y' * 5)"
   ]
  },
  {
   "cell_type": "markdown",
   "id": "0a1dae31",
   "metadata": {},
   "source": [
    "### Task\n",
    "\n",
    "s = 'Python is an interpreted high-level general-purpose programming language. Python's design philosophy emphasizes code readability with its notable use of significant indentation. Wikipedia Developer: Python Software Foundation Stable release: 3.9.5 / 3 May 2021; 19 days ago Preview release: 3.10.0b1 / 3 May 2021; 19 days ago Typing discipline: Duck, dynamic, strong typing; gradual (since 3.5, but ignored in CPython) First appeared: February 1991; 30 years ago Paradigm: Multi-paradigm: object-oriented, procedural (imperative), functional, structured, reflective'"
   ]
  },
  {
   "cell_type": "code",
   "execution_count": 49,
   "id": "3aad223a",
   "metadata": {},
   "outputs": [],
   "source": [
    "s = '''Python is an interpreted high-level general-purpose programming language. Python's design philosophy emphasizes code readability with its notable use of significant indentation. Wikipedia\n",
    "Developer: Python Software Foundation\n",
    "Stable release: 3.9.5 / 3 May 2021; 19 days ago\n",
    "Preview release: 3.10.0b1 / 3 May 2021; 19 days ago\n",
    "Typing discipline: Duck, dynamic, strong typing; gradual (since 3.5, but ignored in CPython)\n",
    "First appeared: February 1991; 30 years ago\n",
    "Paradigm: Multi-paradigm: object-oriented, procedural (imperative), functional, structured, reflective'''"
   ]
  },
  {
   "cell_type": "code",
   "execution_count": 50,
   "id": "cede7cc6",
   "metadata": {},
   "outputs": [
    {
     "name": "stdout",
     "output_type": "stream",
     "text": [
      "['Python', 'is', 'an', 'interpreted', 'high-level', 'general-purpose', 'programming', 'language.', \"Python's\", 'design', 'philosophy', 'emphasizes', 'code', 'readability', 'with', 'its', 'notable', 'use', 'of', 'significant', 'indentation.', 'Wikipedia', 'Developer:', 'Python', 'Software', 'Foundation', 'Stable', 'release:', '3.9.5', '/', '3', 'May', '2021;', '19', 'days', 'ago', 'Preview', 'release:', '3.10.0b1', '/', '3', 'May', '2021;', '19', 'days', 'ago', 'Typing', 'discipline:', 'Duck,', 'dynamic,', 'strong', 'typing;', 'gradual', '(since', '3.5,', 'but', 'ignored', 'in', 'CPython)', 'First', 'appeared:', 'February', '1991;', '30', 'years', 'ago', 'Paradigm:', 'Multi-paradigm:', 'object-oriented,', 'procedural', '(imperative),', 'functional,', 'structured,', 'reflective']\n"
     ]
    }
   ],
   "source": [
    "print(s.split())"
   ]
  },
  {
   "cell_type": "markdown",
   "id": "4f7ef28f",
   "metadata": {},
   "source": [
    "### Task\n",
    "\n",
    "- Reverse every element in list and update them in another list\n",
    "- extract lower-case alpha from each element and update in another list\n",
    "- remove special characters from the element and update in another list\n",
    "- get the middle character of every element and update in another list"
   ]
  },
  {
   "cell_type": "code",
   "execution_count": null,
   "id": "3bdbcd64",
   "metadata": {},
   "outputs": [],
   "source": []
  }
 ],
 "metadata": {
  "kernelspec": {
   "display_name": "Python 3",
   "language": "python",
   "name": "python3"
  },
  "language_info": {
   "codemirror_mode": {
    "name": "ipython",
    "version": 3
   },
   "file_extension": ".py",
   "mimetype": "text/x-python",
   "name": "python",
   "nbconvert_exporter": "python",
   "pygments_lexer": "ipython3",
   "version": "3.8.8"
  }
 },
 "nbformat": 4,
 "nbformat_minor": 5
}
