{
 "cells": [
  {
   "cell_type": "code",
   "execution_count": 2,
   "metadata": {},
   "outputs": [
    {
     "name": "stdout",
     "output_type": "stream",
     "text": [
      "the sum 50\n",
      "400\n"
     ]
    }
   ],
   "source": [
    "#Staticmethod: just general utility method/helper method\n",
    "class Test:\n",
    "    @staticmethod\n",
    "    def summ(x,y):\n",
    "        print('the sum',x+y)\n",
    "    def pro(x,y):\n",
    "        print(x*y)\n",
    "Test.summ(20,30)\n",
    "Test.pro(10,40)"
   ]
  },
  {
   "cell_type": "code",
   "execution_count": 3,
   "metadata": {},
   "outputs": [
    {
     "name": "stdout",
     "output_type": "stream",
     "text": [
      "333\n",
      "gopi\n",
      "12000\n"
     ]
    }
   ],
   "source": [
    "#how to acces members of one class inside another class\n",
    "class Emp:\n",
    "    def __init__(self,eno,ename,esal):\n",
    "        self.eno=eno\n",
    "        self.ename=ename\n",
    "        self.esal=esal\n",
    "    def display(self): #Intense method\n",
    "        print(self.eno)\n",
    "        print(self.ename)\n",
    "        print(self.esal)\n",
    "class Test:\n",
    "    def modify(emp): #Instence method\n",
    "        emp.esal=emp.esal+10000 #modify method employeee salary\n",
    "        emp.display() #call display()\n",
    "e=Emp(333,'gopi',2000) #createobject\n",
    "Test.modify(e)  #pass the object refernce first class \n",
    "        \n",
    "        "
   ]
  },
  {
   "cell_type": "code",
   "execution_count": 4,
   "metadata": {},
   "outputs": [],
   "source": [
    "#Inner class:\n",
    "#the claass which is decalared inside another class\n",
    "#withexisting one type of object if there is no chance is existing another type of object\n",
    "#then we should go for inner classes:\n",
    "\n",
    "\n",
    "#class car:\n",
    "       \n",
    "    \n",
    "       #class engin: inner class\n",
    "\n",
    "#class human:outer class\n",
    "       #class head:Inner class\n",
    "\n",
    "#without existiong outer class object there no chance of exitimg inner class object\n",
    "#inner class object is always asscocited with outer class objects\n",
    "\n",
    "\n",
    "#we can declare number of inner classes"
   ]
  },
  {
   "cell_type": "code",
   "execution_count": 5,
   "metadata": {},
   "outputs": [
    {
     "name": "stdout",
     "output_type": "stream",
     "text": [
      "outer class object\n",
      "Inner class method object\n",
      "Inner class method\n"
     ]
    }
   ],
   "source": [
    "class outer:\n",
    "    def __init__(self):\n",
    "        print('outer class object')\n",
    "    class Inner:\n",
    "        def __init__(self):\n",
    "            print('Inner class method object')\n",
    "        def m1(self):\n",
    "            print('Inner class method')\n",
    "o=outer()\n",
    "i=o.Inner()\n",
    "i.m1()\n",
    "#Note:we can't acces the inner the class directly"
   ]
  },
  {
   "cell_type": "code",
   "execution_count": 6,
   "metadata": {},
   "outputs": [
    {
     "name": "stdout",
     "output_type": "stream",
     "text": [
      "outer class object\n",
      "Inner class method object\n"
     ]
    },
    {
     "data": {
      "text/plain": [
       "<bound method outer.Inner.m1 of <__main__.outer.Inner object at 0x03172A90>>"
      ]
     },
     "execution_count": 6,
     "metadata": {},
     "output_type": "execute_result"
    }
   ],
   "source": [
    "class outer:\n",
    "    def __init__(self):\n",
    "        print('outer class object')\n",
    "    class Inner:\n",
    "        def __init__(self):\n",
    "            print('Inner class method object')\n",
    "        def m1(self):\n",
    "            print('Inner class method')\n",
    "i=outer().Inner()\n",
    "i.m1"
   ]
  },
  {
   "cell_type": "code",
   "execution_count": 9,
   "metadata": {
    "scrolled": true
   },
   "outputs": [
    {
     "name": "stdout",
     "output_type": "stream",
     "text": [
      "outer class object\n",
      "Inner class method object\n",
      "Inner class method\n"
     ]
    }
   ],
   "source": [
    "class outer:\n",
    "    def __init__(self):\n",
    "        print('outer class object')\n",
    "    def m2():\n",
    "        print('outer class method')\n",
    "        \n",
    "    class Inner:\n",
    "        def __init__(self):\n",
    "            print('Inner class method object')\n",
    "        def m1(self):\n",
    "            print('Inner class method')\n",
    "\n",
    "o=outer()\n",
    "i=o.Inner()\n",
    "i.m1()\n"
   ]
  },
  {
   "cell_type": "code",
   "execution_count": 18,
   "metadata": {},
   "outputs": [
    {
     "name": "stdout",
     "output_type": "stream",
     "text": [
      "Name : gopi\n",
      "Dob=1/1/1993\n"
     ]
    }
   ],
   "source": [
    "#eg: Person: name dob\n",
    "    #dob :dd:mm:yyyy\n",
    "    \n",
    "class Person:\n",
    "    def __init__(self):\n",
    "        self.name='gopi'\n",
    "        self.dob=self.Dob()\n",
    "    def dispaly(self):\n",
    "        print('Name :',self.name)\n",
    "        self.dob.dispaly()\n",
    "    class Dob:\n",
    "        def __init__(self):\n",
    "            self.dd=1\n",
    "            self.mm=1\n",
    "            self.yyyy=1993\n",
    "        def dispaly(self):\n",
    "            print('Dob={}/{}/{}'.format(self.dd,self.mm,self.yyyy))\n",
    "p=Person()\n",
    "p.dispaly()"
   ]
  },
  {
   "cell_type": "code",
   "execution_count": 21,
   "metadata": {},
   "outputs": [
    {
     "name": "stdout",
     "output_type": "stream",
     "text": [
      "True\n",
      "False\n",
      "True\n"
     ]
    }
   ],
   "source": [
    "#Garbage Collection: To Distroy useless objects\n",
    "# gc modules:\n",
    "#1.gc.isenaled()\n",
    "#2.gc.disable()\n",
    "#3.gc.enable()\n",
    "import gc\n",
    "print(gc.isenabled())\n",
    "gc.disable()\n",
    "print(gc.isenabled())\n",
    "gc.enable()\n",
    "print(gc.isenabled())"
   ]
  },
  {
   "cell_type": "code",
   "execution_count": null,
   "metadata": {},
   "outputs": [],
   "source": []
  },
  {
   "cell_type": "code",
   "execution_count": null,
   "metadata": {},
   "outputs": [],
   "source": []
  }
 ],
 "metadata": {
  "kernelspec": {
   "display_name": "Python 3",
   "language": "python",
   "name": "python3"
  },
  "language_info": {
   "codemirror_mode": {
    "name": "ipython",
    "version": 3
   },
   "file_extension": ".py",
   "mimetype": "text/x-python",
   "name": "python",
   "nbconvert_exporter": "python",
   "pygments_lexer": "ipython3",
   "version": "3.7.6"
  }
 },
 "nbformat": 4,
 "nbformat_minor": 4
}
