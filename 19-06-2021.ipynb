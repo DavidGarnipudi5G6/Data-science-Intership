{
 "cells": [
  {
   "cell_type": "code",
   "execution_count": 1,
   "metadata": {},
   "outputs": [
    {
     "name": "stdout",
     "output_type": "stream",
     "text": [
      "enter a number 10\n",
      "0 1 1 2 3 5 8 13 21 34 "
     ]
    }
   ],
   "source": [
    "# print the fibonacci series upto n values\n",
    "# ex: 10 => 0 1 1 2 3 5 8 13 21 34\n",
    "\n",
    "n=int(input(\"enter a number \"))\n",
    "a=0\n",
    "b=1\n",
    "c=0\n",
    "if(n==0):\n",
    "    print(\"enter valid number\")\n",
    "elif(n==1):\n",
    "    print(a)\n",
    "else:\n",
    "    while(c<n):\n",
    "        print(a,end=\" \")\n",
    "        t=a+b\n",
    "        a=b\n",
    "        b=t\n",
    "        c=c+1"
   ]
  },
  {
   "cell_type": "code",
   "execution_count": 2,
   "metadata": {},
   "outputs": [
    {
     "name": "stdout",
     "output_type": "stream",
     "text": [
      "enter a number 20\n",
      "0 1 1 2 3 5 8 13 "
     ]
    }
   ],
   "source": [
    "# print the fibonacci series upto nth number\n",
    "# ex: n=10 => 0 1 2 3 5 8\n",
    "n=int(input(\"enter a number \"))\n",
    "a=0\n",
    "b=1\n",
    "c=0\n",
    "if(n==0):\n",
    "    print(\"enter valid number\")\n",
    "elif(n==1):\n",
    "    print(a)\n",
    "else:\n",
    "    while(c<n):\n",
    "        if(a<=n):\n",
    "            print(a,end=\" \")\n",
    "        t=a+b\n",
    "        a=b\n",
    "        b=t\n",
    "        c=c+1 \n",
    "        \n",
    "# print the nth position in fibonacci series\n",
    "# print the primary fibonacci series\n",
    "# print the nth fibonacci number"
   ]
  },
  {
   "cell_type": "code",
   "execution_count": 3,
   "metadata": {},
   "outputs": [
    {
     "name": "stdout",
     "output_type": "stream",
     "text": [
      "enter a value 121\n",
      "palindrome\n"
     ]
    }
   ],
   "source": [
    "# print the given number is palindrome or not\n",
    "# reverse of a number is equal to given number is called palindrome\n",
    "# ex: 121==121 => palindrome\n",
    "\n",
    "n=int(input(\"enter a value \"))\n",
    "t=n\n",
    "s=0\n",
    "while(n>0):   #0>0\n",
    "    r=n%10    #r=1%10 => 1\n",
    "    s=s*10+r  # s=121\n",
    "    n=n//10   # n=1//10=> 0\n",
    "    \n",
    "\n",
    "if(t==s):\n",
    "    print(\"palindrome\")\n",
    "else:\n",
    "    print(\"not a palindrome\")\n",
    "    \n",
    "# print the in between range of palindromes"
   ]
  },
  {
   "cell_type": "code",
   "execution_count": 4,
   "metadata": {},
   "outputs": [
    {
     "name": "stdout",
     "output_type": "stream",
     "text": [
      "enter a number 1645\n",
      "not a armstrong\n"
     ]
    }
   ],
   "source": [
    "# print the given number is armstrong or not\n",
    "# armstrong: sum of the cubes of idividual number is equal to given number is armstrong\n",
    "# armstrong: sum of the power of length of individual number is equal to to the given number\n",
    "# ex: 153 => 1**3+5**3+3**3\n",
    "# ex: 1634 => 1**4+6**4+3**4+4**4\n",
    "\n",
    "n=int(input(\"enter a number \"))\n",
    "l=len(str(n))\n",
    "t=n\n",
    "s=0\n",
    "while(n>0):     #0>0\n",
    "    r=n%10      #r=1%10 => r=1\n",
    "    s=s+r**l    #s=153\n",
    "    n=n//10     #n=1//10 => n=0\n",
    "if(t==s):\n",
    "    print(\"armstrong\")\n",
    "else:\n",
    "    print(\"not a armstrong\")\n",
    "    \n",
    "# print the in between range of armstrong numbers  \n",
    "# count the no.of armstrong number in between range of 1 to 1000"
   ]
  },
  {
   "cell_type": "code",
   "execution_count": 5,
   "metadata": {},
   "outputs": [
    {
     "name": "stdout",
     "output_type": "stream",
     "text": [
      "enter a year 2021\n",
      "not a leap year\n"
     ]
    }
   ],
   "source": [
    "# print the given year is leap year or not\n",
    "# a number divisible by 4 and divisible by 400 and not divisible by 100\n",
    "# 2012 => leap year\n",
    "\n",
    "n=int(input(\"enter a year \"))\n",
    "if(n%4==0 and n%100!=0 or n%400==0):\n",
    "    print(\"leap year\")\n",
    "else:\n",
    "    print(\"not a leap year\")"
   ]
  },
  {
   "cell_type": "code",
   "execution_count": 6,
   "metadata": {},
   "outputs": [
    {
     "name": "stdout",
     "output_type": "stream",
     "text": [
      "enter a first number2000\n",
      "enter a second number 3000\n",
      "2000 2004 2008 2012 2016 2020 2024 2028 2032 2036 2040 2044 2048 2052 2056 2060 2064 2068 2072 2076 2080 2084 2088 2092 2096 2104 2108 2112 2116 2120 2124 2128 2132 2136 2140 2144 2148 2152 2156 2160 2164 2168 2172 2176 2180 2184 2188 2192 2196 2204 2208 2212 2216 2220 2224 2228 2232 2236 2240 2244 2248 2252 2256 2260 2264 2268 2272 2276 2280 2284 2288 2292 2296 2304 2308 2312 2316 2320 2324 2328 2332 2336 2340 2344 2348 2352 2356 2360 2364 2368 2372 2376 2380 2384 2388 2392 2396 2400 2404 2408 2412 2416 2420 2424 2428 2432 2436 2440 2444 2448 2452 2456 2460 2464 2468 2472 2476 2480 2484 2488 2492 2496 2504 2508 2512 2516 2520 2524 2528 2532 2536 2540 2544 2548 2552 2556 2560 2564 2568 2572 2576 2580 2584 2588 2592 2596 2604 2608 2612 2616 2620 2624 2628 2632 2636 2640 2644 2648 2652 2656 2660 2664 2668 2672 2676 2680 2684 2688 2692 2696 2704 2708 2712 2716 2720 2724 2728 2732 2736 2740 2744 2748 2752 2756 2760 2764 2768 2772 2776 2780 2784 2788 2792 2796 2800 2804 2808 2812 2816 2820 2824 2828 2832 2836 2840 2844 2848 2852 2856 2860 2864 2868 2872 2876 2880 2884 2888 2892 2896 2904 2908 2912 2916 2920 2924 2928 2932 2936 2940 2944 2948 2952 2956 2960 2964 2968 2972 2976 2980 2984 2988 2992 2996 "
     ]
    }
   ],
   "source": [
    "# print the in between range of leap years\n",
    "n1=int(input(\"enter a first number\"))\n",
    "n2=int(input(\"enter a second number \"))\n",
    "for i in range(n1,n2+1):\n",
    "    if(i%4==0 and i%100!=0 or i%400==0):\n",
    "        print(i,end=\" \")"
   ]
  },
  {
   "cell_type": "code",
   "execution_count": 7,
   "metadata": {},
   "outputs": [
    {
     "name": "stdout",
     "output_type": "stream",
     "text": [
      "enter a number 123\n",
      "lucky digit\n"
     ]
    }
   ],
   "source": [
    "# find the given number is lucky digit or not\n",
    "# ex:123 => lucky digit ; 1223=> not a lucky digit number\n",
    "n=int(input(\"enter a number \"))\n",
    "s=str(n)\n",
    "s1=\"\"\n",
    "s2=\"\"\n",
    "for i in s:            #1223\n",
    "    if i not in s1:    #3\n",
    "        s1=s1+i        #s1=123\n",
    "    else:\n",
    "        s2=s2+i        #s2=2\n",
    "if(len(s2)==0):\n",
    "    print(\"lucky digit\")\n",
    "else:\n",
    "    print(\"not a lucky digit\")"
   ]
  },
  {
   "cell_type": "code",
   "execution_count": 8,
   "metadata": {},
   "outputs": [
    {
     "name": "stdout",
     "output_type": "stream",
     "text": [
      "enter a number 12345\n",
      "single digit number is: 6\n"
     ]
    }
   ],
   "source": [
    "# Find the sum of digits upto get single digit\n",
    "# 12345=>15=>6\n",
    "n=int(input(\"enter a number \"))\n",
    "s=0\n",
    "while(n>0 or s>9):     #0>0 or 15>9\n",
    "    if(n==0):          #0==0\n",
    "        n=s            #n=15\n",
    "        s=0            #s=0\n",
    "    r=n%10\n",
    "    s=s+r              #s=15\n",
    "    n=n//10            #n=0\n",
    "print(\"single digit number is:\",s)"
   ]
  },
  {
   "cell_type": "code",
   "execution_count": 9,
   "metadata": {},
   "outputs": [
    {
     "data": {
      "text/plain": [
       "[4, 5, 1, 2, 3]"
      ]
     },
     "execution_count": 9,
     "metadata": {},
     "output_type": "execute_result"
    }
   ],
   "source": [
    "# print rotation of a list\n",
    "# i/p=>l=[1,2,3,4,5]    r=2\n",
    "# o/p=>l=[4,5,1,2,3]\n",
    "l=[1,2,3,4,5]\n",
    "l[3:]+l[:3]"
   ]
  },
  {
   "cell_type": "code",
   "execution_count": 10,
   "metadata": {},
   "outputs": [],
   "source": [
    "# print the string next position\n",
    "# ex: hello => ifmmp\n",
    "\n",
    "#print the string next position without change space\n",
    "# ex: hello welcome=> iffmp xfmdpnf"
   ]
  },
  {
   "cell_type": "code",
   "execution_count": null,
   "metadata": {},
   "outputs": [],
   "source": []
  }
 ],
 "metadata": {
  "kernelspec": {
   "display_name": "Python 3",
   "language": "python",
   "name": "python3"
  },
  "language_info": {
   "codemirror_mode": {
    "name": "ipython",
    "version": 3
   },
   "file_extension": ".py",
   "mimetype": "text/x-python",
   "name": "python",
   "nbconvert_exporter": "python",
   "pygments_lexer": "ipython3",
   "version": "3.7.6"
  }
 },
 "nbformat": 4,
 "nbformat_minor": 4
}
