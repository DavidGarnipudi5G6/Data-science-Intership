{
 "cells": [
  {
   "cell_type": "markdown",
   "id": "bbd5d2d1",
   "metadata": {},
   "source": [
    "### loops:\n",
    "\n",
    "- execute the statements as number of times\n",
    "\n",
    "### loops in python:\n",
    "\n",
    "- while\n",
    "  - 1.initilize\n",
    "  - 2.condition\n",
    "  - 3.increment/decrement\n",
    "  \n",
    "  `syntax:\n",
    "         i=0               //initilize\n",
    "         while(condition)   //condition\n",
    "         statements1\n",
    "         statements\n",
    "         i=i+1                                                    //increment/decrement\n",
    "         \n",
    "  \n",
    "- for\n",
    "  "
   ]
  },
  {
   "cell_type": "code",
   "execution_count": 8,
   "id": "79f02b1b",
   "metadata": {},
   "outputs": [
    {
     "name": "stdout",
     "output_type": "stream",
     "text": [
      "0 1 2 3 4 5 6 7 8 9 10 "
     ]
    }
   ],
   "source": [
    "#print the 1 to 10 numbers\n",
    "i=0\n",
    "while(i<=10):  #0<=10\n",
    "    print(i,end=\" \")   #0\n",
    "    i=i+1      #i=1"
   ]
  },
  {
   "cell_type": "code",
   "execution_count": 12,
   "id": "7c19e76b",
   "metadata": {},
   "outputs": [
    {
     "name": "stdout",
     "output_type": "stream",
     "text": [
      "enter number5\n",
      "david\n",
      "david\n",
      "david\n",
      "david\n",
      "david\n",
      "david\n"
     ]
    }
   ],
   "source": [
    "#print the name in 5 times\n",
    "n=int(input(\"enter number\"))\n",
    "\n",
    "i=0\n",
    "while(i<=n):\n",
    "    print(\"david\")\n",
    "    i=i+1"
   ]
  },
  {
   "cell_type": "code",
   "execution_count": 23,
   "id": "73f20267",
   "metadata": {},
   "outputs": [
    {
     "name": "stdout",
     "output_type": "stream",
     "text": [
      "0 1 2 3 4 5 6 7 8 9 \n",
      "\n",
      "3 4 5 6 7 8 9 10 \n",
      "\n",
      "0 3 6 9 "
     ]
    }
   ],
   "source": [
    "for i in range(10):\n",
    "        print(i,end=\" \")\n",
    "        \n",
    "print(\"\\n\")\n",
    "for i in range(3,11):   \n",
    "    print(i,end=\" \")\n",
    "    \n",
    "print(\"\\n\")\n",
    "for i in range(0,10,3): # start,end,step\n",
    "    print(i,end=\" \")"
   ]
  },
  {
   "cell_type": "code",
   "execution_count": null,
   "id": "fb3f02b2",
   "metadata": {},
   "outputs": [],
   "source": []
  },
  {
   "cell_type": "code",
   "execution_count": null,
   "id": "006ddc14",
   "metadata": {},
   "outputs": [],
   "source": []
  },
  {
   "cell_type": "markdown",
   "id": "fe6665d8",
   "metadata": {},
   "source": [
    "### string\n",
    "\n",
    "- group or collection of characters is a string\n"
   ]
  },
  {
   "cell_type": "code",
   "execution_count": 4,
   "id": "34b9fd3c",
   "metadata": {},
   "outputs": [
    {
     "name": "stdout",
     "output_type": "stream",
     "text": [
      "hello student\n"
     ]
    }
   ],
   "source": [
    "s=\"hello student\"\n",
    "print(s)"
   ]
  },
  {
   "cell_type": "code",
   "execution_count": 5,
   "id": "efc039d1",
   "metadata": {},
   "outputs": [
    {
     "data": {
      "text/plain": [
       "str"
      ]
     },
     "execution_count": 5,
     "metadata": {},
     "output_type": "execute_result"
    }
   ],
   "source": [
    "type(s)"
   ]
  },
  {
   "cell_type": "markdown",
   "id": "6da20cb6",
   "metadata": {},
   "source": [
    "### acces the string data\n",
    "\n",
    "* using loops \n",
    "* using slicing"
   ]
  },
  {
   "cell_type": "code",
   "execution_count": 24,
   "id": "3289cfff",
   "metadata": {},
   "outputs": [
    {
     "name": "stdout",
     "output_type": "stream",
     "text": [
      "h e l l o   w e l c o m e   t o   a l l "
     ]
    }
   ],
   "source": [
    "s=\"hello welcome to all\"\n",
    "for i in s:\n",
    "    print(i,end=\" \")"
   ]
  },
  {
   "cell_type": "code",
   "execution_count": 37,
   "id": "a0fc8522",
   "metadata": {
    "scrolled": true
   },
   "outputs": [
    {
     "name": "stdout",
     "output_type": "stream",
     "text": [
      "h e l l o   w e l c o m e   t o   a l l "
     ]
    }
   ],
   "source": [
    "s=\"hello welcome to all\"\n",
    "len(s)\n",
    "for i in range(len(s)):\n",
    "    print(s[i],end=\" \")"
   ]
  },
  {
   "cell_type": "code",
   "execution_count": 38,
   "id": "c76381ed",
   "metadata": {},
   "outputs": [
    {
     "data": {
      "text/plain": [
       "'Davi'"
      ]
     },
     "execution_count": 38,
     "metadata": {},
     "output_type": "execute_result"
    }
   ],
   "source": [
    "#slicing:\n",
    "s=\"David\"\n",
    "s[0:4]"
   ]
  },
  {
   "cell_type": "code",
   "execution_count": 49,
   "id": "0e5322fc",
   "metadata": {},
   "outputs": [
    {
     "name": "stdout",
     "output_type": "stream",
     "text": [
      "lloc ecap\n",
      "lo cp\n",
      "\n",
      "ol\n",
      "pace\n",
      "lloc\n"
     ]
    }
   ],
   "source": [
    "s='pace coll'\n",
    "s[0:4]\n",
    "s[3:]\n",
    "s[:4]\n",
    "s[1:6]\n",
    "print(s[::-1])\n",
    "print(s[::-2])\n",
    "print(s[-1:-3])\n",
    "print(s[-3:-1])\n",
    "print(s[:4:])\n",
    "print(s[:4:-1])"
   ]
  },
  {
   "cell_type": "code",
   "execution_count": 50,
   "id": "5562a416",
   "metadata": {},
   "outputs": [
    {
     "data": {
      "text/plain": [
       "['__add__',\n",
       " '__class__',\n",
       " '__contains__',\n",
       " '__delattr__',\n",
       " '__dir__',\n",
       " '__doc__',\n",
       " '__eq__',\n",
       " '__format__',\n",
       " '__ge__',\n",
       " '__getattribute__',\n",
       " '__getitem__',\n",
       " '__getnewargs__',\n",
       " '__gt__',\n",
       " '__hash__',\n",
       " '__init__',\n",
       " '__init_subclass__',\n",
       " '__iter__',\n",
       " '__le__',\n",
       " '__len__',\n",
       " '__lt__',\n",
       " '__mod__',\n",
       " '__mul__',\n",
       " '__ne__',\n",
       " '__new__',\n",
       " '__reduce__',\n",
       " '__reduce_ex__',\n",
       " '__repr__',\n",
       " '__rmod__',\n",
       " '__rmul__',\n",
       " '__setattr__',\n",
       " '__sizeof__',\n",
       " '__str__',\n",
       " '__subclasshook__',\n",
       " 'capitalize',\n",
       " 'casefold',\n",
       " 'center',\n",
       " 'count',\n",
       " 'encode',\n",
       " 'endswith',\n",
       " 'expandtabs',\n",
       " 'find',\n",
       " 'format',\n",
       " 'format_map',\n",
       " 'index',\n",
       " 'isalnum',\n",
       " 'isalpha',\n",
       " 'isascii',\n",
       " 'isdecimal',\n",
       " 'isdigit',\n",
       " 'isidentifier',\n",
       " 'islower',\n",
       " 'isnumeric',\n",
       " 'isprintable',\n",
       " 'isspace',\n",
       " 'istitle',\n",
       " 'isupper',\n",
       " 'join',\n",
       " 'ljust',\n",
       " 'lower',\n",
       " 'lstrip',\n",
       " 'maketrans',\n",
       " 'partition',\n",
       " 'replace',\n",
       " 'rfind',\n",
       " 'rindex',\n",
       " 'rjust',\n",
       " 'rpartition',\n",
       " 'rsplit',\n",
       " 'rstrip',\n",
       " 'split',\n",
       " 'splitlines',\n",
       " 'startswith',\n",
       " 'strip',\n",
       " 'swapcase',\n",
       " 'title',\n",
       " 'translate',\n",
       " 'upper',\n",
       " 'zfill']"
      ]
     },
     "execution_count": 50,
     "metadata": {},
     "output_type": "execute_result"
    }
   ],
   "source": [
    "# find the tring methods\n",
    "s=\"\"\n",
    "dir(s)"
   ]
  },
  {
   "cell_type": "code",
   "execution_count": 51,
   "id": "3516de63",
   "metadata": {},
   "outputs": [
    {
     "data": {
      "text/plain": [
       "<function str.casefold()>"
      ]
     },
     "execution_count": 51,
     "metadata": {},
     "output_type": "execute_result"
    }
   ],
   "source": [
    "s=\"Hello welcome to data science\"\n",
    "#s.capitalize()\n",
    "s.casefold"
   ]
  },
  {
   "cell_type": "code",
   "execution_count": null,
   "id": "e0f6d10d",
   "metadata": {},
   "outputs": [],
   "source": []
  }
 ],
 "metadata": {
  "kernelspec": {
   "display_name": "Python 3",
   "language": "python",
   "name": "python3"
  },
  "language_info": {
   "codemirror_mode": {
    "name": "ipython",
    "version": 3
   },
   "file_extension": ".py",
   "mimetype": "text/x-python",
   "name": "python",
   "nbconvert_exporter": "python",
   "pygments_lexer": "ipython3",
   "version": "3.8.8"
  }
 },
 "nbformat": 4,
 "nbformat_minor": 5
}
