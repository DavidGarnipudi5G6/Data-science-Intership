{
 "cells": [
  {
   "cell_type": "markdown",
   "id": "07d113c4",
   "metadata": {},
   "source": [
    "### Yesterday Recap\n",
    "- List\n",
    "- Accessing\n",
    "- Methods\n",
    "- Tuple\n",
    "- Accessing\n",
    "- Methods"
   ]
  },
  {
   "cell_type": "markdown",
   "id": "e2ffcb66",
   "metadata": {},
   "source": [
    "### Todays Objectives\n",
    "\n",
    "- Dictionary\n",
    "- Accessing the elements\n",
    "- Dictionary Methods\n",
    "- Sets\n",
    "- Set Methods"
   ]
  },
  {
   "cell_type": "markdown",
   "id": "cc230f19",
   "metadata": {},
   "source": [
    "### Dictionary\n",
    "\n",
    "- It is used to store non-homogenous group of data in the form of Key:value\n",
    "\n",
    "### Properties\n",
    "\n",
    "- It is used to store data as K:V in {}\n",
    "- It is iterable\n",
    "- Ordered\n",
    "- Python 3.6 is unOrdered\n",
    "- Python 3.6+ in ordered\n",
    "- Key should be unique and it is immutable"
   ]
  },
  {
   "cell_type": "code",
   "execution_count": 1,
   "id": "09e2eee8",
   "metadata": {},
   "outputs": [
    {
     "name": "stdout",
     "output_type": "stream",
     "text": [
      "<class 'dict'> <class 'dict'>\n"
     ]
    }
   ],
   "source": [
    "d1 = {}\n",
    "d2 = dict()\n",
    "\n",
    "\n",
    "print(type(d1), type(d2))"
   ]
  },
  {
   "cell_type": "code",
   "execution_count": 2,
   "id": "acfc29f8",
   "metadata": {},
   "outputs": [
    {
     "name": "stdout",
     "output_type": "stream",
     "text": [
      "{'RollNo': [1, 2, 3, 4, 5, 6]}\n"
     ]
    }
   ],
   "source": [
    "d1 = {'RollNo': [1,2,3,4,5,6]}\n",
    "\n",
    "\n",
    "print(d1)"
   ]
  },
  {
   "cell_type": "code",
   "execution_count": 3,
   "id": "81c89a10",
   "metadata": {},
   "outputs": [
    {
     "name": "stdout",
     "output_type": "stream",
     "text": [
      "{'1234567890': ['APSSDC', 'Visakhapatnam', '01/01/2000', '9876543210'], '9876543210': ['Python', 'Earth', '01/01/1994', '0123456789']}\n"
     ]
    }
   ],
   "source": [
    "d1 = {'1234567890': ['APSSDC', 'Vijayawada', '01/01/2000', '9876543210'],\n",
    "      '9876543210': ['Python', 'Earth', '01/01/1994', '0123456789'],\n",
    "      '1234567890': ['APSSDC', 'Visakhapatnam', '01/01/2000', '9876543210']}\n",
    "\n",
    "print(d1)"
   ]
  },
  {
   "cell_type": "code",
   "execution_count": 4,
   "id": "a85f6df0",
   "metadata": {},
   "outputs": [
    {
     "ename": "TypeError",
     "evalue": "unhashable type: 'list'",
     "output_type": "error",
     "traceback": [
      "\u001b[1;31m---------------------------------------------------------------------------\u001b[0m",
      "\u001b[1;31mTypeError\u001b[0m                                 Traceback (most recent call last)",
      "\u001b[1;32m<ipython-input-4-1efc00009c8b>\u001b[0m in \u001b[0;36m<module>\u001b[1;34m\u001b[0m\n\u001b[1;32m----> 1\u001b[1;33m \u001b[0md2\u001b[0m \u001b[1;33m=\u001b[0m \u001b[1;33m{\u001b[0m\u001b[1;33m[\u001b[0m\u001b[1;36m1\u001b[0m\u001b[1;33m,\u001b[0m\u001b[1;36m2\u001b[0m\u001b[1;33m,\u001b[0m\u001b[1;36m3\u001b[0m\u001b[1;33m]\u001b[0m\u001b[1;33m:\u001b[0m \u001b[1;34m'Python'\u001b[0m\u001b[1;33m}\u001b[0m\u001b[1;33m\u001b[0m\u001b[1;33m\u001b[0m\u001b[0m\n\u001b[0m",
      "\u001b[1;31mTypeError\u001b[0m: unhashable type: 'list'"
     ]
    }
   ],
   "source": [
    "d2 = {[1,2,3]: 'Python'}"
   ]
  },
  {
   "cell_type": "code",
   "execution_count": 5,
   "id": "0ffa6bc2",
   "metadata": {},
   "outputs": [],
   "source": [
    "d2 = {(1,2,3): 'Python'}"
   ]
  },
  {
   "cell_type": "code",
   "execution_count": 6,
   "id": "faf69331",
   "metadata": {},
   "outputs": [
    {
     "name": "stdout",
     "output_type": "stream",
     "text": [
      "{(1, 2, 3): 'Python'}\n"
     ]
    }
   ],
   "source": [
    "print(d2)"
   ]
  },
  {
   "cell_type": "markdown",
   "id": "821b6c21",
   "metadata": {},
   "source": [
    "### Accessing the pairs from the dict¶"
   ]
  },
  {
   "cell_type": "code",
   "execution_count": 7,
   "id": "4bf3308a",
   "metadata": {},
   "outputs": [
    {
     "name": "stdout",
     "output_type": "stream",
     "text": [
      "{'1234567890': ['APSSDC', 'Visakhapatnam', '01/01/2000', '9876543210'], '9876543210': ['Python', 'Earth', '01/01/1994', '0123456789']}\n"
     ]
    }
   ],
   "source": [
    "print(d1)"
   ]
  },
  {
   "cell_type": "code",
   "execution_count": 8,
   "id": "73bfea50",
   "metadata": {},
   "outputs": [
    {
     "name": "stdout",
     "output_type": "stream",
     "text": [
      "['APSSDC', 'Visakhapatnam', '01/01/2000', '9876543210']\n"
     ]
    }
   ],
   "source": [
    "print(d1['1234567890'])"
   ]
  },
  {
   "cell_type": "code",
   "execution_count": 9,
   "id": "ca225fa9",
   "metadata": {},
   "outputs": [
    {
     "ename": "KeyError",
     "evalue": "'123456789'",
     "output_type": "error",
     "traceback": [
      "\u001b[1;31m---------------------------------------------------------------------------\u001b[0m",
      "\u001b[1;31mKeyError\u001b[0m                                  Traceback (most recent call last)",
      "\u001b[1;32m<ipython-input-9-f54622f17d58>\u001b[0m in \u001b[0;36m<module>\u001b[1;34m\u001b[0m\n\u001b[1;32m----> 1\u001b[1;33m \u001b[0mprint\u001b[0m\u001b[1;33m(\u001b[0m\u001b[0md1\u001b[0m\u001b[1;33m[\u001b[0m\u001b[1;34m'123456789'\u001b[0m\u001b[1;33m]\u001b[0m\u001b[1;33m)\u001b[0m\u001b[1;33m\u001b[0m\u001b[1;33m\u001b[0m\u001b[0m\n\u001b[0m",
      "\u001b[1;31mKeyError\u001b[0m: '123456789'"
     ]
    }
   ],
   "source": [
    "print(d1['123456789'])"
   ]
  },
  {
   "cell_type": "code",
   "execution_count": 10,
   "id": "ee5eff06",
   "metadata": {},
   "outputs": [
    {
     "name": "stdout",
     "output_type": "stream",
     "text": [
      "{'1234567890': ['Apssdc', 'Tadepalli', '01/01/2014', '1234567890'], '9876543210': ['Python', 'Earth', '01/01/1994', '0123456789'], '123456789': ['APSSDC', 'Visakhapatnam', '01/01/2000', '9876543210']}\n"
     ]
    }
   ],
   "source": [
    "d1['1234567890'] = ['Apssdc', 'Tadepalli', '01/01/2014', '1234567890']\n",
    "d1['123456789'] = ['APSSDC', 'Visakhapatnam', '01/01/2000', '9876543210']\n",
    "\n",
    "\n",
    "print(d1)"
   ]
  },
  {
   "cell_type": "code",
   "execution_count": 11,
   "id": "8c995a9b",
   "metadata": {},
   "outputs": [
    {
     "name": "stdout",
     "output_type": "stream",
     "text": [
      "['Apssdc', 'Tadepalli', '01/01/2014', '1234567890']\n"
     ]
    }
   ],
   "source": [
    "print(d1['1234567890'])"
   ]
  },
  {
   "cell_type": "code",
   "execution_count": 12,
   "id": "ded7689c",
   "metadata": {},
   "outputs": [
    {
     "name": "stdout",
     "output_type": "stream",
     "text": [
      "01/01/2014\n"
     ]
    }
   ],
   "source": [
    "print(d1['1234567890'][2])"
   ]
  },
  {
   "cell_type": "code",
   "execution_count": 13,
   "id": "324b9106",
   "metadata": {},
   "outputs": [
    {
     "name": "stdout",
     "output_type": "stream",
     "text": [
      "{'1234567890': ['Apssdc', 'Tadepalli', '07/07/2014', '1234567890'], '9876543210': ['Python', 'Earth', '01/01/1994', '0123456789'], '123456789': ['APSSDC', 'Visakhapatnam', '01/01/2000', '9876543210']}\n"
     ]
    }
   ],
   "source": [
    "d1['1234567890'][2] = '07/07/2014'\n",
    "\n",
    "print(d1)"
   ]
  },
  {
   "cell_type": "code",
   "execution_count": 14,
   "id": "21d5aa27",
   "metadata": {},
   "outputs": [
    {
     "name": "stdout",
     "output_type": "stream",
     "text": [
      "{'1234567890': ['Apssdc', 'Tadepalli', '07/07/2014', '95135741236'], '9876543210': ['Python', 'Earth', '01/01/1994', '0123456789'], '123456789': ['APSSDC', 'Visakhapatnam', '01/01/2000', '9876543210']}\n"
     ]
    }
   ],
   "source": [
    "d1['1234567890'][3] = '95135741236'\n",
    "\n",
    "print(d1)"
   ]
  },
  {
   "cell_type": "code",
   "execution_count": 15,
   "id": "01d8fd59",
   "metadata": {},
   "outputs": [
    {
     "name": "stdout",
     "output_type": "stream",
     "text": [
      "{'1234567890': ['07/07/2014', '95135741236', 'Apssdc', 'Tadepalli'], '9876543210': ['Python', 'Earth', '01/01/1994', '0123456789'], '123456789': ['APSSDC', 'Visakhapatnam', '01/01/2000', '9876543210']}\n"
     ]
    }
   ],
   "source": [
    "d1['1234567890'] = sorted(d1['1234567890'])\n",
    "\n",
    "print(d1)"
   ]
  },
  {
   "cell_type": "markdown",
   "id": "600b883e",
   "metadata": {},
   "source": [
    "## Dictionary Methods"
   ]
  },
  {
   "cell_type": "code",
   "execution_count": 20,
   "id": "7f1232e0",
   "metadata": {},
   "outputs": [
    {
     "name": "stdout",
     "output_type": "stream",
     "text": [
      "{123: 456, 132: 344}\n"
     ]
    }
   ],
   "source": [
    "print(d1)"
   ]
  },
  {
   "cell_type": "code",
   "execution_count": 21,
   "id": "5560faa0",
   "metadata": {},
   "outputs": [
    {
     "name": "stdout",
     "output_type": "stream",
     "text": [
      "dict_keys([123, 132])\n"
     ]
    }
   ],
   "source": [
    "print(d1.keys())"
   ]
  },
  {
   "cell_type": "code",
   "execution_count": 22,
   "id": "b1298d4f",
   "metadata": {},
   "outputs": [
    {
     "name": "stdout",
     "output_type": "stream",
     "text": [
      "dict_values([456, 344])\n"
     ]
    }
   ],
   "source": [
    "print(d1.values())"
   ]
  },
  {
   "cell_type": "code",
   "execution_count": 23,
   "id": "fa73816f",
   "metadata": {},
   "outputs": [
    {
     "name": "stdout",
     "output_type": "stream",
     "text": [
      "dict_items([(123, 456), (132, 344)])\n"
     ]
    }
   ],
   "source": [
    "print(d1.items())"
   ]
  },
  {
   "cell_type": "code",
   "execution_count": 24,
   "id": "3ad771b3",
   "metadata": {},
   "outputs": [],
   "source": [
    "d1.get('1234567890')"
   ]
  },
  {
   "cell_type": "code",
   "execution_count": 25,
   "id": "1ae37d7c",
   "metadata": {},
   "outputs": [
    {
     "name": "stdout",
     "output_type": "stream",
     "text": [
      "None\n"
     ]
    }
   ],
   "source": [
    "print(d1.get('123'))"
   ]
  },
  {
   "cell_type": "code",
   "execution_count": 26,
   "id": "9bdea3a5",
   "metadata": {},
   "outputs": [
    {
     "name": "stdout",
     "output_type": "stream",
     "text": [
      "Key not Avaliable\n"
     ]
    }
   ],
   "source": [
    "print(d1.get('123', 'Key not Avaliable'))"
   ]
  },
  {
   "cell_type": "code",
   "execution_count": 27,
   "id": "c4d07045",
   "metadata": {},
   "outputs": [
    {
     "name": "stdout",
     "output_type": "stream",
     "text": [
      "Key not Avaliable\n"
     ]
    }
   ],
   "source": [
    "print(d1.get('1234567890', 'Key not Avaliable'))"
   ]
  },
  {
   "cell_type": "code",
   "execution_count": 28,
   "id": "63c6cccd",
   "metadata": {},
   "outputs": [],
   "source": [
    "\n",
    "m21 = {'2_1': [25, 55, 65, 77, 80, 60]}\n",
    "m31 = {'2_1': [35, 55, 65, 77, 80, 60], '3_1': [1,2,4,5,6]}\n",
    "m32 = {'2_1': [50, 55, 65, 77, 80, 60], '3_2': [6,5,4,3,2,1]}"
   ]
  },
  {
   "cell_type": "code",
   "execution_count": 29,
   "id": "e64bc72a",
   "metadata": {},
   "outputs": [
    {
     "name": "stdout",
     "output_type": "stream",
     "text": [
      "{'2_1': [25, 55, 65, 77, 80, 60]}\n"
     ]
    }
   ],
   "source": [
    "print(m21)"
   ]
  },
  {
   "cell_type": "code",
   "execution_count": 30,
   "id": "d5ef6345",
   "metadata": {},
   "outputs": [
    {
     "name": "stdout",
     "output_type": "stream",
     "text": [
      "{'2_1': [35, 55, 65, 77, 80, 60], '3_1': [1, 2, 4, 5, 6]}\n"
     ]
    }
   ],
   "source": [
    "m21.update(m31)\n",
    "print(m21)"
   ]
  },
  {
   "cell_type": "code",
   "execution_count": 31,
   "id": "f027dca6",
   "metadata": {},
   "outputs": [
    {
     "name": "stdout",
     "output_type": "stream",
     "text": [
      "{'2_1': [50, 55, 65, 77, 80, 60], '3_1': [1, 2, 4, 5, 6], '3_2': [6, 5, 4, 3, 2, 1]}\n"
     ]
    }
   ],
   "source": [
    "m21.update(m32)\n",
    "\n",
    "print(m21)"
   ]
  },
  {
   "cell_type": "code",
   "execution_count": 33,
   "id": "745c2aa3",
   "metadata": {},
   "outputs": [
    {
     "ename": "NameError",
     "evalue": "name 'Mark2_1' is not defined",
     "output_type": "error",
     "traceback": [
      "\u001b[1;31m---------------------------------------------------------------------------\u001b[0m",
      "\u001b[1;31mNameError\u001b[0m                                 Traceback (most recent call last)",
      "\u001b[1;32m<ipython-input-33-415453c000dd>\u001b[0m in \u001b[0;36m<module>\u001b[1;34m\u001b[0m\n\u001b[1;32m----> 1\u001b[1;33m \u001b[0mcopy\u001b[0m \u001b[1;33m=\u001b[0m \u001b[0mMark2_1\u001b[0m\u001b[1;33m.\u001b[0m\u001b[0mcopy\u001b[0m\u001b[1;33m(\u001b[0m\u001b[1;33m)\u001b[0m\u001b[1;33m\u001b[0m\u001b[1;33m\u001b[0m\u001b[0m\n\u001b[0m\u001b[0;32m      2\u001b[0m \u001b[1;33m\u001b[0m\u001b[0m\n\u001b[0;32m      3\u001b[0m \u001b[0mprint\u001b[0m\u001b[1;33m(\u001b[0m\u001b[0mcopy\u001b[0m\u001b[1;33m)\u001b[0m\u001b[1;33m\u001b[0m\u001b[1;33m\u001b[0m\u001b[0m\n",
      "\u001b[1;31mNameError\u001b[0m: name 'Mark2_1' is not defined"
     ]
    }
   ],
   "source": [
    "copy = Mark2_1.copy()\n",
    "\n",
    "print(copy)"
   ]
  },
  {
   "cell_type": "code",
   "execution_count": 34,
   "id": "a90cc6c4",
   "metadata": {},
   "outputs": [
    {
     "name": "stdout",
     "output_type": "stream",
     "text": [
      "{'2_1': [35, 55, 65, 77, 80, 60], '3_1': [1, 2, 4, 5, 6]}\n"
     ]
    }
   ],
   "source": [
    "m21 = m31.copy()\n",
    "\n",
    "print(m21)"
   ]
  },
  {
   "cell_type": "code",
   "execution_count": 35,
   "id": "d42112f4",
   "metadata": {},
   "outputs": [
    {
     "name": "stdout",
     "output_type": "stream",
     "text": [
      "{}\n"
     ]
    }
   ],
   "source": [
    "m21.clear()\n",
    "\n",
    "print(m21)"
   ]
  },
  {
   "cell_type": "code",
   "execution_count": 36,
   "id": "7cc44988",
   "metadata": {},
   "outputs": [
    {
     "name": "stdout",
     "output_type": "stream",
     "text": [
      "[1, 2, 4, 5, 6]\n",
      "{'2_1': [35, 55, 65, 77, 80, 60]}\n"
     ]
    }
   ],
   "source": [
    "print(m31.pop('3_1'))\n",
    "\n",
    "print(m31)"
   ]
  },
  {
   "cell_type": "code",
   "execution_count": 38,
   "id": "68307a81",
   "metadata": {},
   "outputs": [
    {
     "ename": "KeyError",
     "evalue": "'3_1'",
     "output_type": "error",
     "traceback": [
      "\u001b[1;31m---------------------------------------------------------------------------\u001b[0m",
      "\u001b[1;31mKeyError\u001b[0m                                  Traceback (most recent call last)",
      "\u001b[1;32m<ipython-input-38-887351cc3e4f>\u001b[0m in \u001b[0;36m<module>\u001b[1;34m\u001b[0m\n\u001b[1;32m----> 1\u001b[1;33m \u001b[0mprint\u001b[0m\u001b[1;33m(\u001b[0m\u001b[0mm31\u001b[0m\u001b[1;33m.\u001b[0m\u001b[0mpop\u001b[0m\u001b[1;33m(\u001b[0m\u001b[1;34m'3_1'\u001b[0m\u001b[1;33m)\u001b[0m\u001b[1;33m)\u001b[0m\u001b[1;33m\u001b[0m\u001b[1;33m\u001b[0m\u001b[0m\n\u001b[0m\u001b[0;32m      2\u001b[0m \u001b[1;33m\u001b[0m\u001b[0m\n\u001b[0;32m      3\u001b[0m \u001b[0mprint\u001b[0m\u001b[1;33m(\u001b[0m\u001b[0mm31\u001b[0m\u001b[1;33m)\u001b[0m\u001b[1;33m\u001b[0m\u001b[1;33m\u001b[0m\u001b[0m\n",
      "\u001b[1;31mKeyError\u001b[0m: '3_1'"
     ]
    }
   ],
   "source": [
    "print(m31.pop('3_1'))\n",
    "\n",
    "print(m31)"
   ]
  },
  {
   "cell_type": "code",
   "execution_count": 39,
   "id": "9d87ac82",
   "metadata": {},
   "outputs": [
    {
     "name": "stdout",
     "output_type": "stream",
     "text": [
      "{'2_1': [50, 55, 65, 77, 80, 60], '3_2': [6, 5, 4, 3, 2, 1]}\n"
     ]
    }
   ],
   "source": [
    "print(m32)"
   ]
  },
  {
   "cell_type": "code",
   "execution_count": 40,
   "id": "377930c3",
   "metadata": {},
   "outputs": [
    {
     "name": "stdout",
     "output_type": "stream",
     "text": [
      "('3_2', [6, 5, 4, 3, 2, 1])\n",
      "{'2_1': [50, 55, 65, 77, 80, 60]}\n"
     ]
    }
   ],
   "source": [
    "print(m32.popitem())\n",
    "\n",
    "print(m32)"
   ]
  },
  {
   "cell_type": "code",
   "execution_count": 41,
   "id": "bbcce01e",
   "metadata": {},
   "outputs": [
    {
     "ename": "KeyError",
     "evalue": "'popitem(): dictionary is empty'",
     "output_type": "error",
     "traceback": [
      "\u001b[1;31m---------------------------------------------------------------------------\u001b[0m",
      "\u001b[1;31mKeyError\u001b[0m                                  Traceback (most recent call last)",
      "\u001b[1;32m<ipython-input-41-b14506c61eec>\u001b[0m in \u001b[0;36m<module>\u001b[1;34m\u001b[0m\n\u001b[1;32m----> 1\u001b[1;33m \u001b[0mprint\u001b[0m\u001b[1;33m(\u001b[0m\u001b[0mm21\u001b[0m\u001b[1;33m.\u001b[0m\u001b[0mpopitem\u001b[0m\u001b[1;33m(\u001b[0m\u001b[1;33m)\u001b[0m\u001b[1;33m)\u001b[0m\u001b[1;33m\u001b[0m\u001b[1;33m\u001b[0m\u001b[0m\n\u001b[0m\u001b[0;32m      2\u001b[0m \u001b[1;33m\u001b[0m\u001b[0m\n\u001b[0;32m      3\u001b[0m \u001b[0mprint\u001b[0m\u001b[1;33m(\u001b[0m\u001b[0mm21\u001b[0m\u001b[1;33m)\u001b[0m\u001b[1;33m\u001b[0m\u001b[1;33m\u001b[0m\u001b[0m\n",
      "\u001b[1;31mKeyError\u001b[0m: 'popitem(): dictionary is empty'"
     ]
    }
   ],
   "source": [
    "print(m21.popitem())\n",
    "\n",
    "print(m21)"
   ]
  },
  {
   "cell_type": "code",
   "execution_count": 42,
   "id": "c6f0b3c7",
   "metadata": {},
   "outputs": [
    {
     "name": "stdout",
     "output_type": "stream",
     "text": [
      "1 2 3\n"
     ]
    }
   ],
   "source": [
    "\n",
    "li = [1,2,3]\n",
    "\n",
    "\n",
    "a, b, c = li\n",
    "\n",
    "print(a,b,c)\n"
   ]
  },
  {
   "cell_type": "code",
   "execution_count": 43,
   "id": "7be8df37",
   "metadata": {},
   "outputs": [
    {
     "ename": "ValueError",
     "evalue": "too many values to unpack (expected 2)",
     "output_type": "error",
     "traceback": [
      "\u001b[1;31m---------------------------------------------------------------------------\u001b[0m",
      "\u001b[1;31mValueError\u001b[0m                                Traceback (most recent call last)",
      "\u001b[1;32m<ipython-input-43-e99d840cfee5>\u001b[0m in \u001b[0;36m<module>\u001b[1;34m\u001b[0m\n\u001b[1;32m----> 1\u001b[1;33m \u001b[0ma\u001b[0m\u001b[1;33m,\u001b[0m\u001b[0mb\u001b[0m \u001b[1;33m=\u001b[0m \u001b[1;33m[\u001b[0m\u001b[1;36m1\u001b[0m\u001b[1;33m,\u001b[0m\u001b[1;36m2\u001b[0m\u001b[1;33m,\u001b[0m\u001b[1;36m3\u001b[0m\u001b[1;33m]\u001b[0m\u001b[1;33m\u001b[0m\u001b[1;33m\u001b[0m\u001b[0m\n\u001b[0m",
      "\u001b[1;31mValueError\u001b[0m: too many values to unpack (expected 2)"
     ]
    }
   ],
   "source": [
    "a,b = [1,2,3]"
   ]
  },
  {
   "cell_type": "code",
   "execution_count": 44,
   "id": "9b225a92",
   "metadata": {},
   "outputs": [
    {
     "name": "stdout",
     "output_type": "stream",
     "text": [
      "1 1 2 3\n"
     ]
    }
   ],
   "source": [
    "a,b,c,d = (1,1,2,3)\n",
    "\n",
    "print(a,b,c,d)"
   ]
  },
  {
   "cell_type": "code",
   "execution_count": 45,
   "id": "954eb730",
   "metadata": {},
   "outputs": [
    {
     "name": "stdout",
     "output_type": "stream",
     "text": [
      "[1, 1, 2, 3]\n"
     ]
    }
   ],
   "source": [
    "li2 = [a,b,c,d]\n",
    "\n",
    "print(li2)"
   ]
  },
  {
   "cell_type": "code",
   "execution_count": 46,
   "id": "177c228d",
   "metadata": {},
   "outputs": [
    {
     "name": "stdout",
     "output_type": "stream",
     "text": [
      "2\n"
     ]
    }
   ],
   "source": [
    "\n",
    "print(len(d1))\n"
   ]
  },
  {
   "cell_type": "code",
   "execution_count": 47,
   "id": "acb97b63",
   "metadata": {},
   "outputs": [
    {
     "name": "stdout",
     "output_type": "stream",
     "text": [
      "132\n"
     ]
    }
   ],
   "source": [
    "print(max(d1))"
   ]
  },
  {
   "cell_type": "markdown",
   "id": "78bbaa92",
   "metadata": {},
   "source": [
    "### Iterating¶"
   ]
  },
  {
   "cell_type": "code",
   "execution_count": 48,
   "id": "edc1dcb1",
   "metadata": {},
   "outputs": [
    {
     "name": "stdout",
     "output_type": "stream",
     "text": [
      "123\n",
      "132\n"
     ]
    }
   ],
   "source": [
    "for pair in d1:\n",
    "    print(pair)"
   ]
  },
  {
   "cell_type": "code",
   "execution_count": 49,
   "id": "fbbb0357",
   "metadata": {},
   "outputs": [
    {
     "name": "stdout",
     "output_type": "stream",
     "text": [
      "456\n",
      "344\n"
     ]
    }
   ],
   "source": [
    "for val in d1.values():\n",
    "    print(val)"
   ]
  },
  {
   "cell_type": "code",
   "execution_count": 50,
   "id": "bf548010",
   "metadata": {},
   "outputs": [
    {
     "name": "stdout",
     "output_type": "stream",
     "text": [
      "456\n",
      "344\n"
     ]
    }
   ],
   "source": [
    "for pair in d1:\n",
    "    print(d1[pair])\n"
   ]
  },
  {
   "cell_type": "code",
   "execution_count": 51,
   "id": "dc14de4f",
   "metadata": {},
   "outputs": [
    {
     "name": "stdout",
     "output_type": "stream",
     "text": [
      "456\n",
      "344\n"
     ]
    }
   ],
   "source": [
    "for pair in d1:\n",
    "    print(d1.get(pair))"
   ]
  },
  {
   "cell_type": "code",
   "execution_count": 52,
   "id": "95d03b3f",
   "metadata": {},
   "outputs": [
    {
     "name": "stdout",
     "output_type": "stream",
     "text": [
      "(123, 456)\n",
      "(132, 344)\n"
     ]
    }
   ],
   "source": [
    "for pair in d1.items():\n",
    "    print(pair)"
   ]
  },
  {
   "cell_type": "code",
   "execution_count": 53,
   "id": "96a6a3b5",
   "metadata": {},
   "outputs": [
    {
     "name": "stdout",
     "output_type": "stream",
     "text": [
      "456\n",
      "344\n"
     ]
    }
   ],
   "source": [
    "for pair in d1.items():\n",
    "    print(pair[1])\n"
   ]
  },
  {
   "cell_type": "code",
   "execution_count": 54,
   "id": "fe8bf443",
   "metadata": {},
   "outputs": [
    {
     "name": "stdout",
     "output_type": "stream",
     "text": [
      "123\n",
      "456\n",
      "**********\n",
      "132\n",
      "344\n",
      "**********\n"
     ]
    }
   ],
   "source": [
    "for key, value in d1.items():\n",
    "    print(key)\n",
    "    print(value)\n",
    "    print('*' * 10)"
   ]
  },
  {
   "cell_type": "code",
   "execution_count": 55,
   "id": "e3afafa5",
   "metadata": {},
   "outputs": [
    {
     "name": "stdout",
     "output_type": "stream",
     "text": [
      "{1: 1, 2: 4, 3: 9, 4: 16, 5: 25, 6: 36, 7: 49, 8: 64, 9: 81, 10: 100, 11: 121, 12: 144, 13: 169, 14: 196, 15: 225, 16: 256, 17: 289, 18: 324, 19: 361, 20: 400, 21: 441, 22: 484, 23: 529, 24: 576, 25: 625, 26: 676, 27: 729, 28: 784, 29: 841, 30: 900, 31: 961, 32: 1024, 33: 1089, 34: 1156, 35: 1225, 36: 1296, 37: 1369, 38: 1444, 39: 1521, 40: 1600, 41: 1681, 42: 1764, 43: 1849, 44: 1936, 45: 2025, 46: 2116, 47: 2209, 48: 2304, 49: 2401, 50: 2500, 51: 2601, 52: 2704, 53: 2809, 54: 2916, 55: 3025, 56: 3136, 57: 3249, 58: 3364, 59: 3481, 60: 3600, 61: 3721, 62: 3844, 63: 3969, 64: 4096, 65: 4225, 66: 4356, 67: 4489, 68: 4624, 69: 4761, 70: 4900, 71: 5041, 72: 5184, 73: 5329, 74: 5476, 75: 5625, 76: 5776, 77: 5929, 78: 6084, 79: 6241, 80: 6400, 81: 6561, 82: 6724, 83: 6889, 84: 7056, 85: 7225, 86: 7396, 87: 7569, 88: 7744, 89: 7921, 90: 8100, 91: 8281, 92: 8464, 93: 8649, 94: 8836, 95: 9025, 96: 9216, 97: 9409, 98: 9604, 99: 9801, 100: 10000}\n"
     ]
    }
   ],
   "source": [
    "sq = {}\n",
    "\n",
    "\n",
    "for i in range(1, 101):\n",
    "    sq[i] = i ** 2\n",
    "\n",
    "    \n",
    "print(sq)\n"
   ]
  },
  {
   "cell_type": "code",
   "execution_count": 56,
   "id": "bdbe6415",
   "metadata": {},
   "outputs": [
    {
     "name": "stdout",
     "output_type": "stream",
     "text": [
      "4--16--36--64--100--144--196--256--324--400--484--576--676--784--900--1024--1156--1296--1444--1600--1764--1936--2116--2304--2500--2704--2916--3136--3364--3600--3844--4096--4356--4624--4900--5184--5476--5776--6084--6400--6724--7056--7396--7744--8100--8464--8836--9216--9604--10000--"
     ]
    }
   ],
   "source": [
    "for key in sq:\n",
    "    if key % 2 == 0:\n",
    "        print(sq[key], end = '--')"
   ]
  },
  {
   "cell_type": "markdown",
   "id": "a9cf54f2",
   "metadata": {},
   "source": [
    "### Task\n",
    "\n",
    "- Character frequency inside the string\n",
    "- word frequency inside the string"
   ]
  },
  {
   "cell_type": "code",
   "execution_count": 57,
   "id": "9290ed1e",
   "metadata": {},
   "outputs": [],
   "source": [
    "s = \"\"\"Python is an interpreted high-level general-purpose programming language. Python's design philosophy emphasizes code readability with its notable use of significant indentation. Wikipedia\n",
    "Developer: Python Software Foundation\n",
    "Stable release: 3.9.5 / 3 May 2021; 19 days ago\n",
    "Preview release: 3.10.0b1 / 3 May 2021; 19 days ago\n",
    "Typing discipline: Duck, dynamic, strong typing; gradual (since 3.5, but ignored in CPython)\n",
    "First appeared: February 1991; 30 years ago\n",
    "Paradigm: Multi-paradigm: object-oriented, procedural (imperative), functional, structured, reflective\"\"\""
   ]
  },
  {
   "cell_type": "markdown",
   "id": "4be12aed",
   "metadata": {},
   "source": [
    "char, char_count\n",
    "\n",
    "[['p', 5], ['a', 10]]\n",
    "{'p':5, 'a':10}"
   ]
  },
  {
   "cell_type": "markdown",
   "id": "25a1ab20",
   "metadata": {},
   "source": [
    "### Contact Application\n",
    "\n",
    "{'Name': ['Mobile1','mobile1', 'email', 'DOB''website']}\n",
    "\n",
    "Take the input from the user\n",
    "\n",
    "- 1.Create a contact -> Key:Value\n",
    "- 1.add the contact to existing contact -> Key -> Name\n",
    "- 1.edit the contact -> Key -> value\n",
    "- 1.delete the contact -> Name\n",
    "- 1.view the contact -> Name"
   ]
  },
  {
   "cell_type": "code",
   "execution_count": 58,
   "id": "a6b6bc6a",
   "metadata": {},
   "outputs": [
    {
     "name": "stdout",
     "output_type": "stream",
     "text": [
      "Press the options below\n",
      "1. Create a contact\n",
      "2. add the contact to existing contact\n",
      "3. edit the contact\n",
      "4. delete the contact2\n"
     ]
    }
   ],
   "source": [
    "option = input(\"\"\"Press the options below\n",
    "1. Create a contact\n",
    "2. add the contact to existing contact\n",
    "3. edit the contact\n",
    "4. delete the contact\"\"\")"
   ]
  },
  {
   "cell_type": "code",
   "execution_count": 59,
   "id": "2336b0e3",
   "metadata": {},
   "outputs": [],
   "source": [
    "contact = {}"
   ]
  },
  {
   "cell_type": "code",
   "execution_count": 66,
   "id": "5379d47f",
   "metadata": {},
   "outputs": [],
   "source": [
    "if option == '1':\n",
    "    key = input(\"Enter Contact Name\")\n",
    "    value = input(\"Enter detail with space sep\").split()\n",
    "    contact[key] = value"
   ]
  },
  {
   "cell_type": "code",
   "execution_count": 63,
   "id": "c5981dd7",
   "metadata": {},
   "outputs": [
    {
     "name": "stdout",
     "output_type": "stream",
     "text": [
      "{}\n"
     ]
    }
   ],
   "source": [
    "print(contact)"
   ]
  },
  {
   "cell_type": "code",
   "execution_count": 64,
   "id": "c654724a",
   "metadata": {},
   "outputs": [
    {
     "name": "stdout",
     "output_type": "stream",
     "text": [
      "Enter the name to add the existingPython\n",
      "Python contact is not avaliable\n"
     ]
    }
   ],
   "source": [
    "if option == '2':\n",
    "    name = input('Enter the name to add the existing')\n",
    "    if name in contact:\n",
    "        data = input(\"Enter the data to update\").split()\n",
    "        contact[name].extend(data)\n",
    "    else:\n",
    "        print(name, \"contact is not avaliable\")"
   ]
  },
  {
   "cell_type": "code",
   "execution_count": 65,
   "id": "b23a7759",
   "metadata": {},
   "outputs": [
    {
     "name": "stdout",
     "output_type": "stream",
     "text": [
      "{}\n"
     ]
    }
   ],
   "source": [
    "print(contact)"
   ]
  },
  {
   "cell_type": "code",
   "execution_count": 67,
   "id": "582a5521",
   "metadata": {},
   "outputs": [
    {
     "name": "stdout",
     "output_type": "stream",
     "text": [
      "python\n",
      "name is not avaliable\n"
     ]
    }
   ],
   "source": [
    "name = input()\n",
    "\n",
    "if name in contact.keys():\n",
    "    print(contact.pop(name))\n",
    "else:\n",
    "    print('name is not avaliable')"
   ]
  },
  {
   "cell_type": "code",
   "execution_count": 68,
   "id": "e36fd292",
   "metadata": {},
   "outputs": [
    {
     "name": "stdout",
     "output_type": "stream",
     "text": [
      "{}\n"
     ]
    }
   ],
   "source": [
    "print(contact)"
   ]
  },
  {
   "cell_type": "markdown",
   "id": "f8026f08",
   "metadata": {},
   "source": [
    "### Day10 Outcomes\n",
    "\n",
    "- Dictionary\n",
    "- Dictoinary Methods"
   ]
  },
  {
   "cell_type": "code",
   "execution_count": null,
   "id": "0533ab1c",
   "metadata": {},
   "outputs": [],
   "source": []
  }
 ],
 "metadata": {
  "kernelspec": {
   "display_name": "Python 3",
   "language": "python",
   "name": "python3"
  },
  "language_info": {
   "codemirror_mode": {
    "name": "ipython",
    "version": 3
   },
   "file_extension": ".py",
   "mimetype": "text/x-python",
   "name": "python",
   "nbconvert_exporter": "python",
   "pygments_lexer": "ipython3",
   "version": "3.8.8"
  }
 },
 "nbformat": 4,
 "nbformat_minor": 5
}
