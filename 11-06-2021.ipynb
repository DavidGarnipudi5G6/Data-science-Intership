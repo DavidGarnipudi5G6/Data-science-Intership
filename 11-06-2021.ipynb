{
 "cells": [
  {
   "cell_type": "code",
   "execution_count": 1,
   "id": "22590649",
   "metadata": {},
   "outputs": [
    {
     "data": {
      "text/plain": [
       "2"
      ]
     },
     "execution_count": 1,
     "metadata": {},
     "output_type": "execute_result"
    }
   ],
   "source": [
    "s='hello welcome to hello'\n",
    "s.count('o')\n",
    "s.count('hello')"
   ]
  },
  {
   "cell_type": "code",
   "execution_count": 2,
   "id": "c98f9ca3",
   "metadata": {},
   "outputs": [
    {
     "data": {
      "text/plain": [
       "b'hello everyone'"
      ]
     },
     "execution_count": 2,
     "metadata": {},
     "output_type": "execute_result"
    }
   ],
   "source": [
    "s='hello everyone'\n",
    "s.encode()"
   ]
  },
  {
   "cell_type": "code",
   "execution_count": 6,
   "id": "be035bf8",
   "metadata": {},
   "outputs": [
    {
     "data": {
      "text/plain": [
       "True"
      ]
     },
     "execution_count": 6,
     "metadata": {},
     "output_type": "execute_result"
    }
   ],
   "source": [
    "s='hello welcome to all'\n",
    "s.endswith('l')\n",
    "s.endswith('all')"
   ]
  },
  {
   "cell_type": "code",
   "execution_count": 9,
   "id": "30fbdd86",
   "metadata": {},
   "outputs": [
    {
     "data": {
      "text/plain": [
       "'hello welcome all'"
      ]
     },
     "execution_count": 9,
     "metadata": {},
     "output_type": "execute_result"
    }
   ],
   "source": [
    "s='hello\\twelcome\\tall' # default tab size is 8\n",
    "s.expandtabs()\n",
    "s.expandtabs(2) # we can provide custom tab"
   ]
  },
  {
   "cell_type": "code",
   "execution_count": 21,
   "id": "aba5ec7a",
   "metadata": {},
   "outputs": [
    {
     "data": {
      "text/plain": [
       "-1"
      ]
     },
     "execution_count": 21,
     "metadata": {},
     "output_type": "execute_result"
    }
   ],
   "source": [
    "s='hello welcome'\n",
    "s.find('l')\n",
    "s.find('l',5)\n",
    "s.find('l',3,5)\n",
    "s.find('hello')\n",
    "s.find('welcome')\n",
    "s.find('hai')"
   ]
  },
  {
   "cell_type": "code",
   "execution_count": 35,
   "id": "42180068",
   "metadata": {},
   "outputs": [
    {
     "name": "stdout",
     "output_type": "stream",
     "text": [
      "the sum of a and b is  30\n",
      "the sum of  10 and 30\n",
      "the sum of 20 and 10 is 30\n",
      "the sum of 30 and 20 is 10\n",
      "my name is eswar and my age is 12\n"
     ]
    }
   ],
   "source": [
    "# format method is used for when print the statement\n",
    "a=10\n",
    "b=20\n",
    "c=a+b\n",
    "print(\"the sum of a and b is \",c)\n",
    "print(\"the sum of \",a,\"and\",c)\n",
    "print(\"the sum of {} and {} is {}\".format(b,a,c))\n",
    "print(\"the sum of {2} and {0} is {1}\".format(b,a,c))\n",
    "\n",
    "# using keyword arguments\n",
    "print(\"my name is {name} and my age is {age}\".format(name='eswar', age=12))"
   ]
  },
  {
   "cell_type": "code",
   "execution_count": 36,
   "id": "3b559071",
   "metadata": {},
   "outputs": [
    {
     "name": "stdout",
     "output_type": "stream",
     "text": [
      "your name is mename and age is mereichepandi\n"
     ]
    }
   ],
   "source": [
    "# format_map use the dictionary for print the statements\n",
    "d={'name':'mename', 'age':'mereichepandi'}\n",
    "print(\"your name is {name} and age is {age}\".format_map(d))"
   ]
  },
  {
   "cell_type": "code",
   "execution_count": 40,
   "id": "fe5c6533",
   "metadata": {},
   "outputs": [
    {
     "ename": "ValueError",
     "evalue": "substring not found",
     "output_type": "error",
     "traceback": [
      "\u001b[1;31m---------------------------------------------------------------------------\u001b[0m",
      "\u001b[1;31mValueError\u001b[0m                                Traceback (most recent call last)",
      "\u001b[1;32m<ipython-input-40-a710c9baa02a>\u001b[0m in \u001b[0;36m<module>\u001b[1;34m\u001b[0m\n\u001b[0;32m      1\u001b[0m \u001b[1;31m#index\u001b[0m\u001b[1;33m\u001b[0m\u001b[1;33m\u001b[0m\u001b[1;33m\u001b[0m\u001b[0m\n\u001b[0;32m      2\u001b[0m \u001b[0ms\u001b[0m\u001b[1;33m=\u001b[0m\u001b[1;34m'hello'\u001b[0m\u001b[1;33m\u001b[0m\u001b[1;33m\u001b[0m\u001b[0m\n\u001b[1;32m----> 3\u001b[1;33m \u001b[0ms\u001b[0m\u001b[1;33m.\u001b[0m\u001b[0mindex\u001b[0m\u001b[1;33m(\u001b[0m\u001b[1;34m'1'\u001b[0m\u001b[1;33m)\u001b[0m\u001b[1;33m\u001b[0m\u001b[1;33m\u001b[0m\u001b[0m\n\u001b[0m\u001b[0;32m      4\u001b[0m \u001b[0ms\u001b[0m\u001b[1;33m.\u001b[0m\u001b[0mindex\u001b[0m\u001b[1;33m(\u001b[0m\u001b[1;34m'1'\u001b[0m\u001b[1;33m,\u001b[0m\u001b[1;36m3\u001b[0m\u001b[1;33m)\u001b[0m\u001b[1;33m\u001b[0m\u001b[1;33m\u001b[0m\u001b[0m\n\u001b[0;32m      5\u001b[0m \u001b[0ms\u001b[0m\u001b[1;33m.\u001b[0m\u001b[0mindex\u001b[0m\u001b[1;33m(\u001b[0m\u001b[1;34m'z'\u001b[0m\u001b[1;33m)\u001b[0m\u001b[1;33m\u001b[0m\u001b[1;33m\u001b[0m\u001b[0m\n",
      "\u001b[1;31mValueError\u001b[0m: substring not found"
     ]
    }
   ],
   "source": [
    "#index\n",
    "s='hello'\n",
    "s.index('1')\n",
    "s.index('1',3)\n",
    "s.index('z')\n",
    "# difference b/w index and find is index return errors and find returns -1"
   ]
  },
  {
   "cell_type": "code",
   "execution_count": 44,
   "id": "69557f5a",
   "metadata": {},
   "outputs": [
    {
     "data": {
      "text/plain": [
       "True"
      ]
     },
     "execution_count": 44,
     "metadata": {},
     "output_type": "execute_result"
    }
   ],
   "source": [
    "#isalnum\n",
    "s='hello123'\n",
    "s.isalnum\n",
    "\n",
    "s='hello 123'\n",
    "s.isalnum()\n",
    "\n",
    "\"hello\".isalnum()\n",
    "\n",
    "\"123\".isalnum()"
   ]
  },
  {
   "cell_type": "code",
   "execution_count": 46,
   "id": "50d8a37a",
   "metadata": {},
   "outputs": [
    {
     "data": {
      "text/plain": [
       "False"
      ]
     },
     "execution_count": 46,
     "metadata": {},
     "output_type": "execute_result"
    }
   ],
   "source": [
    "#isalpha\n",
    "s='hello'\n",
    "s.isalpha()\n",
    "\n",
    "'hello123'.isalpha()"
   ]
  },
  {
   "cell_type": "code",
   "execution_count": 47,
   "id": "0f067f70",
   "metadata": {},
   "outputs": [
    {
     "data": {
      "text/plain": [
       "True"
      ]
     },
     "execution_count": 47,
     "metadata": {},
     "output_type": "execute_result"
    }
   ],
   "source": [
    "#isascii\n",
    "s=\"hello welcome 123\"\n",
    "s.isascii()"
   ]
  },
  {
   "cell_type": "code",
   "execution_count": 49,
   "id": "dc6067b6",
   "metadata": {},
   "outputs": [
    {
     "data": {
      "text/plain": [
       "True"
      ]
     },
     "execution_count": 49,
     "metadata": {},
     "output_type": "execute_result"
    }
   ],
   "source": [
    "s=\"123\"\n",
    "s.isdecimal()"
   ]
  },
  {
   "cell_type": "code",
   "execution_count": 52,
   "id": "0b6c47a6",
   "metadata": {},
   "outputs": [
    {
     "data": {
      "text/plain": [
       "False"
      ]
     },
     "execution_count": 52,
     "metadata": {},
     "output_type": "execute_result"
    }
   ],
   "source": [
    "s='123.32'\n",
    "s.isdigit()"
   ]
  },
  {
   "cell_type": "code",
   "execution_count": 53,
   "id": "2111442b",
   "metadata": {},
   "outputs": [
    {
     "data": {
      "text/plain": [
       "False"
      ]
     },
     "execution_count": 53,
     "metadata": {},
     "output_type": "execute_result"
    }
   ],
   "source": [
    "#isidentifier\n",
    "s='12hello'\n",
    "s.isidentifier()"
   ]
  },
  {
   "cell_type": "code",
   "execution_count": 54,
   "id": "36a2b423",
   "metadata": {},
   "outputs": [
    {
     "data": {
      "text/plain": [
       "True"
      ]
     },
     "execution_count": 54,
     "metadata": {},
     "output_type": "execute_result"
    }
   ],
   "source": [
    "s='hello123'\n",
    "s.isidentifier()"
   ]
  },
  {
   "cell_type": "code",
   "execution_count": 56,
   "id": "43f97cdd",
   "metadata": {},
   "outputs": [
    {
     "data": {
      "text/plain": [
       "True"
      ]
     },
     "execution_count": 56,
     "metadata": {},
     "output_type": "execute_result"
    }
   ],
   "source": [
    "s='hello'\n",
    "s.islower()"
   ]
  },
  {
   "cell_type": "code",
   "execution_count": 57,
   "id": "8284dfd9",
   "metadata": {},
   "outputs": [
    {
     "data": {
      "text/plain": [
       "False"
      ]
     },
     "execution_count": 57,
     "metadata": {},
     "output_type": "execute_result"
    }
   ],
   "source": [
    "s='Hello'\n",
    "s.islower()"
   ]
  },
  {
   "cell_type": "code",
   "execution_count": 60,
   "id": "d68270c5",
   "metadata": {},
   "outputs": [
    {
     "data": {
      "text/plain": [
       "True"
      ]
     },
     "execution_count": 60,
     "metadata": {},
     "output_type": "execute_result"
    }
   ],
   "source": [
    "s=\"123\"\n",
    "s.isnumeric()"
   ]
  },
  {
   "cell_type": "code",
   "execution_count": 61,
   "id": "14bb2641",
   "metadata": {},
   "outputs": [
    {
     "data": {
      "text/plain": [
       "False"
      ]
     },
     "execution_count": 61,
     "metadata": {},
     "output_type": "execute_result"
    }
   ],
   "source": [
    "s=\"hello\"\n",
    "s.isprintable()\n",
    "\n",
    "s=\"hello\\n\"\n",
    "s.isprintable()"
   ]
  },
  {
   "cell_type": "code",
   "execution_count": 62,
   "id": "89c4de9e",
   "metadata": {},
   "outputs": [
    {
     "data": {
      "text/plain": [
       "True"
      ]
     },
     "execution_count": 62,
     "metadata": {},
     "output_type": "execute_result"
    }
   ],
   "source": [
    "s=\" \"\n",
    "s.isspace()"
   ]
  },
  {
   "cell_type": "code",
   "execution_count": 65,
   "id": "5b92e049",
   "metadata": {},
   "outputs": [
    {
     "data": {
      "text/plain": [
       "False"
      ]
     },
     "execution_count": 65,
     "metadata": {},
     "output_type": "execute_result"
    }
   ],
   "source": [
    "s=\"hello welcome\"\n",
    "s.title()\n",
    "\n",
    "s=\"Hello welcome\"\n",
    "s.istitle()"
   ]
  },
  {
   "cell_type": "markdown",
   "id": "86d44afe",
   "metadata": {},
   "source": [
    "### Find the how many characters,spaces,special characters in a given string?\n",
    "\n",
    "* hel@lo welcome =>13,1,1\n",
    "\n",
    "### Find the how many digits in agiven string and find the sum of digits?\n",
    "* hello123 => 3 => 6\n",
    "\n",
    "### Remove the special characters and print the string\n",
    "* ex: hello@welc%omem => hellowelcome"
   ]
  },
  {
   "cell_type": "code",
   "execution_count": 9,
   "id": "10f1a498",
   "metadata": {},
   "outputs": [
    {
     "data": {
      "text/plain": [
       "'hellowelcome'"
      ]
     },
     "execution_count": 9,
     "metadata": {},
     "output_type": "execute_result"
    }
   ],
   "source": [
    "#Remove the special characters and print the string¶\n",
    "#ex: hello@welc%ome => hellowelcome\n",
    "s=\"hello@welc%ome\"\n",
    "s1=\"\"\n",
    "for i in s:\n",
    "    #print(i,end=\" \")\n",
    "    if(i.isalpha()):\n",
    "        s1=s1+i\n",
    "s1"
   ]
  },
  {
   "cell_type": "code",
   "execution_count": 85,
   "id": "e0a06d3b",
   "metadata": {},
   "outputs": [
    {
     "ename": "NameError",
     "evalue": "name 'contains_digit' is not defined",
     "output_type": "error",
     "traceback": [
      "\u001b[1;31m---------------------------------------------------------------------------\u001b[0m",
      "\u001b[1;31mNameError\u001b[0m                                 Traceback (most recent call last)",
      "\u001b[1;32m<ipython-input-85-5f6b2be041db>\u001b[0m in \u001b[0;36m<module>\u001b[1;34m\u001b[0m\n\u001b[0;32m      1\u001b[0m \u001b[0ms\u001b[0m\u001b[1;33m=\u001b[0m\u001b[1;34m\"hello1234\"\u001b[0m\u001b[1;33m\u001b[0m\u001b[1;33m\u001b[0m\u001b[0m\n\u001b[1;32m----> 2\u001b[1;33m \u001b[0mprint\u001b[0m\u001b[1;33m(\u001b[0m\u001b[0mcontains_digit\u001b[0m\u001b[1;33m)\u001b[0m\u001b[1;33m\u001b[0m\u001b[1;33m\u001b[0m\u001b[0m\n\u001b[0m",
      "\u001b[1;31mNameError\u001b[0m: name 'contains_digit' is not defined"
     ]
    }
   ],
   "source": [
    "s=\"hello1234\"\n",
    "print(contains_digit)"
   ]
  },
  {
   "cell_type": "code",
   "execution_count": null,
   "id": "3a104882",
   "metadata": {},
   "outputs": [],
   "source": []
  }
 ],
 "metadata": {
  "kernelspec": {
   "display_name": "Python 3",
   "language": "python",
   "name": "python3"
  },
  "language_info": {
   "codemirror_mode": {
    "name": "ipython",
    "version": 3
   },
   "file_extension": ".py",
   "mimetype": "text/x-python",
   "name": "python",
   "nbconvert_exporter": "python",
   "pygments_lexer": "ipython3",
   "version": "3.8.8"
  }
 },
 "nbformat": 4,
 "nbformat_minor": 5
}
