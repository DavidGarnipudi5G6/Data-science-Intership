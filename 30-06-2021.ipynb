{
 "cells": [
  {
   "cell_type": "markdown",
   "metadata": {},
   "source": [
    "### Today Objectives\n",
    "\n",
    "* List compreshions\n",
    "* File handling\n",
    "* map function, lambda function"
   ]
  },
  {
   "cell_type": "markdown",
   "metadata": {},
   "source": [
    "### List comprehensions:\n",
    "\n",
    "* List comprehension means compress the multiple lines of a code into single line in list is called list comprehension"
   ]
  },
  {
   "cell_type": "code",
   "execution_count": 1,
   "metadata": {},
   "outputs": [
    {
     "data": {
      "text/plain": [
       "[1, 2, 3, 4, 5, 6, 7, 8, 9, 10]"
      ]
     },
     "execution_count": 1,
     "metadata": {},
     "output_type": "execute_result"
    }
   ],
   "source": [
    "# print the numbers from 1 to 10 in a List\n",
    "l=[]\n",
    "\n",
    "for i in range(1,11):\n",
    "    l.append(i)\n",
    "l"
   ]
  },
  {
   "cell_type": "code",
   "execution_count": 2,
   "metadata": {},
   "outputs": [
    {
     "data": {
      "text/plain": [
       "[1, 2, 3, 4, 5, 6, 7, 8, 9, 10]"
      ]
     },
     "execution_count": 2,
     "metadata": {},
     "output_type": "execute_result"
    }
   ],
   "source": [
    "# print the number from 1 to 10 using List comprehession\n",
    "l=[i for i in range(1,11)]\n",
    "l"
   ]
  },
  {
   "cell_type": "code",
   "execution_count": 3,
   "metadata": {},
   "outputs": [
    {
     "name": "stdout",
     "output_type": "stream",
     "text": [
      "s t r i n g "
     ]
    },
    {
     "data": {
      "text/plain": [
       "'string'"
      ]
     },
     "execution_count": 3,
     "metadata": {},
     "output_type": "execute_result"
    }
   ],
   "source": [
    "# print the word into char using list comprehension\n",
    "# ex: string => s,t,r,i,n,g\n",
    "\n",
    "s='string'\n",
    "for i in s:\n",
    "    print(i,end=\" \")\n"
   ]
  },
  {
   "cell_type": "code",
   "execution_count": 6,
   "metadata": {},
   "outputs": [
    {
     "data": {
      "text/plain": [
       "[1, 2, 3, 4, 5, 6, 7, 8, 9, 10]"
      ]
     },
     "execution_count": 6,
     "metadata": {},
     "output_type": "execute_result"
    }
   ],
   "source": [
    "# print the number from 1 to 10 using List comprehession\n",
    "l=[k for k in range(1,11)]\n",
    "l"
   ]
  },
  {
   "cell_type": "code",
   "execution_count": 9,
   "metadata": {},
   "outputs": [
    {
     "name": "stdout",
     "output_type": "stream",
     "text": [
      "10\n",
      "20\n",
      "30\n",
      "40\n",
      "50\n"
     ]
    }
   ],
   "source": [
    "l=[10,20,30,40,50]\n",
    "for i in range(len(l)):\n",
    "    print(l[i])"
   ]
  },
  {
   "cell_type": "code",
   "execution_count": 12,
   "metadata": {},
   "outputs": [
    {
     "data": {
      "text/plain": [
       "[10, 20, 30, 40, 50]"
      ]
     },
     "execution_count": 12,
     "metadata": {},
     "output_type": "execute_result"
    }
   ],
   "source": [
    "l=[10,20,30,40,50]\n",
    "l2=[l[i] for i in range(len(l))]\n",
    "l2"
   ]
  },
  {
   "cell_type": "code",
   "execution_count": 13,
   "metadata": {},
   "outputs": [
    {
     "data": {
      "text/plain": [
       "[20, 40, 60, 80]"
      ]
     },
     "execution_count": 13,
     "metadata": {},
     "output_type": "execute_result"
    }
   ],
   "source": [
    "# multiply a list item using 2\n",
    "l=[10,20,30,40]\n",
    "l1=[]\n",
    "for i in l:\n",
    "    l1.append(i*2)\n",
    "l1"
   ]
  },
  {
   "cell_type": "code",
   "execution_count": 21,
   "metadata": {},
   "outputs": [
    {
     "data": {
      "text/plain": [
       "[20, 40, 60, 80]"
      ]
     },
     "execution_count": 21,
     "metadata": {},
     "output_type": "execute_result"
    }
   ],
   "source": [
    "l=[10,20,30,40]\n",
    "l2=[i*2 for i in l]\n",
    "l2"
   ]
  },
  {
   "cell_type": "code",
   "execution_count": 23,
   "metadata": {},
   "outputs": [
    {
     "data": {
      "text/plain": [
       "[100, 400, 900, 1600]"
      ]
     },
     "execution_count": 23,
     "metadata": {},
     "output_type": "execute_result"
    }
   ],
   "source": [
    "#print the list of items with power of 2\n",
    "l=[10,20,30,40]\n",
    "l2=[i**2 for i in l]\n",
    "l2"
   ]
  },
  {
   "cell_type": "code",
   "execution_count": 25,
   "metadata": {},
   "outputs": [
    {
     "data": {
      "text/plain": [
       "[2, 4, 6, 8]"
      ]
     },
     "execution_count": 25,
     "metadata": {},
     "output_type": "execute_result"
    }
   ],
   "source": [
    "# print the even numbers in a list using list comprehension\n",
    "l=[1,2,3,4,5,6,7,8,9]\n",
    "#for i in l:\n",
    " #   if(i%2==0):\n",
    " #       print(i,end=\" \")\n",
    "        \n",
    "l1=[i for i in l if i%2==0]\n",
    "l1"
   ]
  },
  {
   "cell_type": "code",
   "execution_count": 28,
   "metadata": {},
   "outputs": [
    {
     "ename": "SyntaxError",
     "evalue": "invalid syntax (<ipython-input-28-269019f2e574>, line 5)",
     "output_type": "error",
     "traceback": [
      "\u001b[1;36m  File \u001b[1;32m\"<ipython-input-28-269019f2e574>\"\u001b[1;36m, line \u001b[1;32m5\u001b[0m\n\u001b[1;33m    l1[i for i in l if i%2==0 else i%2!=0 i**2]\u001b[0m\n\u001b[1;37m           ^\u001b[0m\n\u001b[1;31mSyntaxError\u001b[0m\u001b[1;31m:\u001b[0m invalid syntax\n"
     ]
    }
   ],
   "source": [
    "### task:\n",
    "\n",
    "#if even number then print the i value .else print the power 2 \n",
    "l=[1,2,3,4,5,6,7,8,9]\n",
    "l1[i for i in l if i%2==0 else i%2!=0 i**2]\n",
    "l1"
   ]
  },
  {
   "cell_type": "code",
   "execution_count": 32,
   "metadata": {},
   "outputs": [
    {
     "data": {
      "text/plain": [
       "6"
      ]
     },
     "execution_count": 32,
     "metadata": {},
     "output_type": "execute_result"
    }
   ],
   "source": [
    "# count the number in a list\n",
    "#L=[1,1,1,2,2,3,4,5,1,2,2,2,2]\n",
    "# ex: num=2 => count=6\n",
    "\n",
    "l=[1,1,1,2,2,3,4,5,1,2,2,2,2]\n",
    "l1=len([l.count(i) for i in l if i==2])\n",
    "l1"
   ]
  },
  {
   "cell_type": "code",
   "execution_count": 33,
   "metadata": {},
   "outputs": [
    {
     "data": {
      "text/plain": [
       "4"
      ]
     },
     "execution_count": 33,
     "metadata": {},
     "output_type": "execute_result"
    }
   ],
   "source": [
    "# count the even numbers in a list using list comprehension\n",
    "l=[1,2,3,4,5,6,7,8,9]\n",
    "l1=len([i for i in l if i%2==0])\n",
    "l1"
   ]
  },
  {
   "cell_type": "code",
   "execution_count": 35,
   "metadata": {},
   "outputs": [
    {
     "data": {
      "text/plain": [
       "[(1, 20),\n",
       " (1, 21),\n",
       " (1, 22),\n",
       " (1, 23),\n",
       " (1, 24),\n",
       " (1, 25),\n",
       " (1, 26),\n",
       " (1, 27),\n",
       " (1, 28),\n",
       " (1, 29),\n",
       " (2, 20),\n",
       " (2, 21),\n",
       " (2, 22),\n",
       " (2, 23),\n",
       " (2, 24),\n",
       " (2, 25),\n",
       " (2, 26),\n",
       " (2, 27),\n",
       " (2, 28),\n",
       " (2, 29),\n",
       " (3, 20),\n",
       " (3, 21),\n",
       " (3, 22),\n",
       " (3, 23),\n",
       " (3, 24),\n",
       " (3, 25),\n",
       " (3, 26),\n",
       " (3, 27),\n",
       " (3, 28),\n",
       " (3, 29),\n",
       " (4, 20),\n",
       " (4, 21),\n",
       " (4, 22),\n",
       " (4, 23),\n",
       " (4, 24),\n",
       " (4, 25),\n",
       " (4, 26),\n",
       " (4, 27),\n",
       " (4, 28),\n",
       " (4, 29),\n",
       " (5, 20),\n",
       " (5, 21),\n",
       " (5, 22),\n",
       " (5, 23),\n",
       " (5, 24),\n",
       " (5, 25),\n",
       " (5, 26),\n",
       " (5, 27),\n",
       " (5, 28),\n",
       " (5, 29),\n",
       " (6, 20),\n",
       " (6, 21),\n",
       " (6, 22),\n",
       " (6, 23),\n",
       " (6, 24),\n",
       " (6, 25),\n",
       " (6, 26),\n",
       " (6, 27),\n",
       " (6, 28),\n",
       " (6, 29),\n",
       " (7, 20),\n",
       " (7, 21),\n",
       " (7, 22),\n",
       " (7, 23),\n",
       " (7, 24),\n",
       " (7, 25),\n",
       " (7, 26),\n",
       " (7, 27),\n",
       " (7, 28),\n",
       " (7, 29),\n",
       " (8, 20),\n",
       " (8, 21),\n",
       " (8, 22),\n",
       " (8, 23),\n",
       " (8, 24),\n",
       " (8, 25),\n",
       " (8, 26),\n",
       " (8, 27),\n",
       " (8, 28),\n",
       " (8, 29),\n",
       " (9, 20),\n",
       " (9, 21),\n",
       " (9, 22),\n",
       " (9, 23),\n",
       " (9, 24),\n",
       " (9, 25),\n",
       " (9, 26),\n",
       " (9, 27),\n",
       " (9, 28),\n",
       " (9, 29)]"
      ]
     },
     "execution_count": 35,
     "metadata": {},
     "output_type": "execute_result"
    }
   ],
   "source": [
    "# print the list items using inner for loop\n",
    "l=[(i,j) for i in range(1,10) for j in range(20,30)]\n",
    "l"
   ]
  },
  {
   "cell_type": "markdown",
   "metadata": {},
   "source": [
    "### File handling:\n",
    "\n",
    "> File is used for storing the user data in local or external\n",
    "\n",
    "* In python, the open() function is used for create ,read and write the file\n",
    "* syntax: open(\"filename\",\"mode\")\n",
    "     * 'r' => read data from file\n",
    "     * 'w' => write data into a file\n",
    "     * 'a' => append the data into a file\n",
    "     * 'r' => both read and write"
   ]
  },
  {
   "cell_type": "code",
   "execution_count": 36,
   "metadata": {},
   "outputs": [],
   "source": [
    "f=open(\"checking.txt\",'w')\n",
    "f.write(\"this is pace data  science program\")\n",
    "f.close()\n"
   ]
  },
  {
   "cell_type": "code",
   "execution_count": 40,
   "metadata": {},
   "outputs": [],
   "source": [
    "f=open(\"checking.txt\",'w')\n",
    "f.write(\"this is pace data  science program Intern\")\n",
    "f.close()\n"
   ]
  },
  {
   "cell_type": "code",
   "execution_count": 42,
   "metadata": {},
   "outputs": [],
   "source": [
    "f=open(\"checking.txt\",'a')\n",
    "f.write(\"\\nwelcome to all\")\n",
    "f.close()\n"
   ]
  },
  {
   "cell_type": "code",
   "execution_count": 46,
   "metadata": {},
   "outputs": [
    {
     "name": "stdout",
     "output_type": "stream",
     "text": [
      "this is pace data  science program Internwelcome to all\n",
      "welcome to all\n",
      "good morning\n",
      "good afternoon\n",
      "good evening\n"
     ]
    }
   ],
   "source": [
    "f=open('checking.txt','r')\n",
    "print(f.read())"
   ]
  },
  {
   "cell_type": "code",
   "execution_count": 48,
   "metadata": {},
   "outputs": [
    {
     "name": "stdout",
     "output_type": "stream",
     "text": [
      "['this is pace data  science program Internwelcome to all\\n', 'welcome to all\\n', 'good morning\\n', 'good afternoon\\n', 'good evening']\n"
     ]
    }
   ],
   "source": [
    "f=open('checking.txt','r')\n",
    "print(f.readlines())"
   ]
  },
  {
   "cell_type": "code",
   "execution_count": 50,
   "metadata": {},
   "outputs": [
    {
     "name": "stdout",
     "output_type": "stream",
     "text": [
      "this is pace data  science program Internwelcome to all\n",
      "\n"
     ]
    }
   ],
   "source": [
    "f=open('checking.txt','r')\n",
    "print(f.readline())\n",
    "f.close()"
   ]
  },
  {
   "cell_type": "code",
   "execution_count": 52,
   "metadata": {},
   "outputs": [
    {
     "data": {
      "text/plain": [
       "'this is pa'"
      ]
     },
     "execution_count": 52,
     "metadata": {},
     "output_type": "execute_result"
    }
   ],
   "source": [
    "f=open('checking.txt','r')\n",
    "st=f.read(10)\n",
    "st"
   ]
  },
  {
   "cell_type": "code",
   "execution_count": 54,
   "metadata": {},
   "outputs": [
    {
     "name": "stdout",
     "output_type": "stream",
     "text": [
      "current position is: 10\n",
      "ce data  s\n",
      "current position is: 20\n"
     ]
    }
   ],
   "source": [
    "f=open('checking.txt','r')\n",
    "st=f.read(10)\n",
    "print(\"current position is:\",f.tell())\n",
    "st2=f.read(10)\n",
    "print(st2)\n",
    "print(\"current position is:\",f.tell())"
   ]
  },
  {
   "cell_type": "code",
   "execution_count": 57,
   "metadata": {},
   "outputs": [
    {
     "name": "stdout",
     "output_type": "stream",
     "text": [
      "['this is pace data  science program Internwelcome to all\\n', 'welcome to all\\n', 'good morning\\n', 'good afternoon\\n', 'good evening']\n",
      "['this', 'is', 'pace', 'data', 'science', 'program', 'Internwelcome', 'to', 'all']\n",
      "['welcome', 'to', 'all']\n",
      "['good', 'morning']\n",
      "['good', 'afternoon']\n",
      "['good', 'evening']\n"
     ]
    }
   ],
   "source": [
    "# files with keyword\n",
    "with open('checking.txt','r')as f:\n",
    "    d=f.readlines()\n",
    "    print(d)\n",
    "    for i in d:\n",
    "        w=i.split()\n",
    "        print(w)\n",
    "    \n"
   ]
  },
  {
   "cell_type": "markdown",
   "metadata": {},
   "source": [
    "### Task\n",
    "* print the how many lines in a file\n",
    "* print the how many words in a file\n",
    "* print the charaters in a file\n",
    "\n"
   ]
  },
  {
   "cell_type": "code",
   "execution_count": 59,
   "metadata": {},
   "outputs": [],
   "source": [
    "import os\n",
    "os.rename('checking.txt','check.txt')"
   ]
  },
  {
   "cell_type": "code",
   "execution_count": 60,
   "metadata": {},
   "outputs": [
    {
     "data": {
      "text/plain": [
       "'C:\\\\Users\\\\David\\\\Desktop\\\\Data science using Python 2021'"
      ]
     },
     "execution_count": 60,
     "metadata": {},
     "output_type": "execute_result"
    }
   ],
   "source": [
    "os.getcwd()"
   ]
  },
  {
   "cell_type": "code",
   "execution_count": 61,
   "metadata": {},
   "outputs": [],
   "source": [
    "os.remove('check.txt')"
   ]
  },
  {
   "cell_type": "code",
   "execution_count": 1,
   "metadata": {},
   "outputs": [
    {
     "name": "stdout",
     "output_type": "stream",
     "text": [
      "enter how many numbers you want to insert 5\n",
      "enter a number 10\n",
      "enter a number 20\n",
      "enter a number 30\n",
      "enter a number 40\n",
      "enter a number 50\n"
     ]
    }
   ],
   "source": [
    "# write a data  into file from user\n",
    "n=int(input(\"enter how many numbers you want to insert \"))\n",
    "for i in range(n):\n",
    "    with open(\"myfile.txt\",'a') as f:\n",
    "        num=input(\"enter a number \")\n",
    "        f.write(num+\"\\n\")"
   ]
  },
  {
   "cell_type": "code",
   "execution_count": 7,
   "metadata": {},
   "outputs": [
    {
     "data": {
      "text/plain": [
       "590"
      ]
     },
     "execution_count": 7,
     "metadata": {},
     "output_type": "execute_result"
    }
   ],
   "source": [
    "# read the data from files and print the sum\n",
    "#with open(\"myfile.txt\",'r') as f:\n",
    "      #print(f.read())\n",
    "\n",
    "s=0\n",
    "with open(\"myfile.txt\",'r') as f:\n",
    "    for i in f.readlines():\n",
    "        s=s+int(i)\n",
    "s"
   ]
  },
  {
   "cell_type": "code",
   "execution_count": null,
   "metadata": {},
   "outputs": [],
   "source": []
  }
 ],
 "metadata": {
  "kernelspec": {
   "display_name": "Python 3",
   "language": "python",
   "name": "python3"
  },
  "language_info": {
   "codemirror_mode": {
    "name": "ipython",
    "version": 3
   },
   "file_extension": ".py",
   "mimetype": "text/x-python",
   "name": "python",
   "nbconvert_exporter": "python",
   "pygments_lexer": "ipython3",
   "version": "3.7.6"
  }
 },
 "nbformat": 4,
 "nbformat_minor": 4
}
