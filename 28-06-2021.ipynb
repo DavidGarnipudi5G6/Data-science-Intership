{
 "cells": [
  {
   "cell_type": "code",
   "execution_count": 2,
   "metadata": {},
   "outputs": [
    {
     "name": "stdout",
     "output_type": "stream",
     "text": [
      "10\n"
     ]
    }
   ],
   "source": [
    "# how to modify static var:\n",
    "\n",
    "#within the class we should use classname,cls variables\n",
    "\n",
    "#from outside of the class:only classname \n",
    "\n",
    "class Test:\n",
    "    a=10 #its class level variable\n",
    "    def __init__(self):\n",
    "        self.a=10\n",
    "t=Test()\n",
    "print(Test.a)\n",
    "\n"
   ]
  },
  {
   "cell_type": "code",
   "execution_count": 3,
   "metadata": {},
   "outputs": [
    {
     "name": "stdout",
     "output_type": "stream",
     "text": [
      "60\n",
      "60\n"
     ]
    }
   ],
   "source": [
    "class Test:\n",
    "    a=10\n",
    "    def __init__(self):\n",
    "        Test.a=20  #within con classname modify static variables\n",
    "    @classmethod\n",
    "    def m1(cls):\n",
    "        cls.a=30  #within class method modify static var by using cls,classname\n",
    "        Test.a=40\n",
    "    @staticmethod\n",
    "    def m2():   #within the static method by using classname\n",
    "        Test.a=50\n",
    "t=Test()\n",
    "t.m1()\n",
    "t.m2()\n",
    "Test.a=60\n",
    "print(Test.a)  #bu using class name \n",
    "print(t.a)\n"
   ]
  },
  {
   "cell_type": "code",
   "execution_count": 4,
   "metadata": {},
   "outputs": [
    {
     "name": "stdout",
     "output_type": "stream",
     "text": [
      "{'__module__': '__main__', 'a': 10, '__init__': <function Test.__init__ at 0x032C4540>, '__dict__': <attribute '__dict__' of 'Test' objects>, '__weakref__': <attribute '__weakref__' of 'Test' objects>, '__doc__': None}\n",
      "{'__module__': '__main__', '__init__': <function Test.__init__ at 0x032C4540>, '__dict__': <attribute '__dict__' of 'Test' objects>, '__weakref__': <attribute '__weakref__' of 'Test' objects>, '__doc__': None}\n"
     ]
    }
   ],
   "source": [
    "class Test:\n",
    "    a=10\n",
    "    \n",
    "    def __init__(self):\n",
    "        del Test.a\n",
    "print(Test.__dict__)\n",
    "t=Test()\n",
    "print(Test.__dict__)"
   ]
  },
  {
   "cell_type": "code",
   "execution_count": 5,
   "metadata": {},
   "outputs": [
    {
     "name": "stdout",
     "output_type": "stream",
     "text": [
      "100\n",
      "200\n"
     ]
    }
   ],
   "source": [
    "#local variable:\n",
    "#method level variable:\n",
    "#we should not use self,cls,classname that type of variables call as local variables\n",
    "class Test:\n",
    "    def m1(self):\n",
    "        a=100  #inside method local var\n",
    "        print(a)\n",
    "    def m2(self):\n",
    "        b=200 #temparay requriment\n",
    "        print(b)\n",
    "t=Test()\n",
    "t.m1()\n",
    "t.m2()"
   ]
  },
  {
   "cell_type": "code",
   "execution_count": 6,
   "metadata": {},
   "outputs": [
    {
     "name": "stdout",
     "output_type": "stream",
     "text": [
      "100\n"
     ]
    },
    {
     "ename": "NameError",
     "evalue": "name 'a' is not defined",
     "output_type": "error",
     "traceback": [
      "\u001b[1;31m---------------------------------------------------------------------------\u001b[0m",
      "\u001b[1;31mNameError\u001b[0m                                 Traceback (most recent call last)",
      "\u001b[1;32m<ipython-input-6-8c97c0244985>\u001b[0m in \u001b[0;36m<module>\u001b[1;34m\u001b[0m\n\u001b[0;32m      9\u001b[0m \u001b[0mt\u001b[0m\u001b[1;33m=\u001b[0m\u001b[0mTest\u001b[0m\u001b[1;33m(\u001b[0m\u001b[1;33m)\u001b[0m\u001b[1;33m\u001b[0m\u001b[1;33m\u001b[0m\u001b[0m\n\u001b[0;32m     10\u001b[0m \u001b[0mt\u001b[0m\u001b[1;33m.\u001b[0m\u001b[0mm1\u001b[0m\u001b[1;33m(\u001b[0m\u001b[1;33m)\u001b[0m\u001b[1;33m\u001b[0m\u001b[1;33m\u001b[0m\u001b[0m\n\u001b[1;32m---> 11\u001b[1;33m \u001b[0mt\u001b[0m\u001b[1;33m.\u001b[0m\u001b[0mm2\u001b[0m\u001b[1;33m(\u001b[0m\u001b[1;33m)\u001b[0m\u001b[1;33m\u001b[0m\u001b[1;33m\u001b[0m\u001b[0m\n\u001b[0m",
      "\u001b[1;32m<ipython-input-6-8c97c0244985>\u001b[0m in \u001b[0;36mm2\u001b[1;34m(self)\u001b[0m\n\u001b[0;32m      5\u001b[0m     \u001b[1;32mdef\u001b[0m \u001b[0mm2\u001b[0m\u001b[1;33m(\u001b[0m\u001b[0mself\u001b[0m\u001b[1;33m)\u001b[0m\u001b[1;33m:\u001b[0m\u001b[1;33m\u001b[0m\u001b[1;33m\u001b[0m\u001b[0m\n\u001b[0;32m      6\u001b[0m         \u001b[0mb\u001b[0m\u001b[1;33m=\u001b[0m\u001b[1;36m200\u001b[0m\u001b[1;33m\u001b[0m\u001b[1;33m\u001b[0m\u001b[0m\n\u001b[1;32m----> 7\u001b[1;33m         \u001b[0mprint\u001b[0m\u001b[1;33m(\u001b[0m\u001b[0ma\u001b[0m\u001b[1;33m)\u001b[0m\u001b[1;33m\u001b[0m\u001b[1;33m\u001b[0m\u001b[0m\n\u001b[0m\u001b[0;32m      8\u001b[0m         \u001b[0mprint\u001b[0m\u001b[1;33m(\u001b[0m\u001b[0mb\u001b[0m\u001b[1;33m)\u001b[0m\u001b[1;33m\u001b[0m\u001b[1;33m\u001b[0m\u001b[0m\n\u001b[0;32m      9\u001b[0m \u001b[0mt\u001b[0m\u001b[1;33m=\u001b[0m\u001b[0mTest\u001b[0m\u001b[1;33m(\u001b[0m\u001b[1;33m)\u001b[0m\u001b[1;33m\u001b[0m\u001b[1;33m\u001b[0m\u001b[0m\n",
      "\u001b[1;31mNameError\u001b[0m: name 'a' is not defined"
     ]
    }
   ],
   "source": [
    "class Test:\n",
    "    def m1(self):\n",
    "        a=100 \n",
    "        print(a)\n",
    "    def m2(self):\n",
    "        b=200  #can't acces the outside of the method\n",
    "        print(a)\n",
    "        print(b)\n",
    "t=Test()\n",
    "t.m1()\n",
    "t.m2()"
   ]
  },
  {
   "cell_type": "code",
   "execution_count": 7,
   "metadata": {},
   "outputs": [
    {
     "name": "stdout",
     "output_type": "stream",
     "text": [
      "25.0\n"
     ]
    }
   ],
   "source": [
    "class Test:\n",
    "    def ave(self,list):\n",
    "        result=sum(list)/len(list) #temparay reqquriment\n",
    "        print(result)\n",
    "t=Test()\n",
    "t.ave([10,20,30,40])"
   ]
  },
  {
   "cell_type": "code",
   "execution_count": 8,
   "metadata": {},
   "outputs": [],
   "source": [
    "#Type of methods:\n",
    "#instance methods:\n",
    "# If we are using atlest one instance variable===instance method\n",
    "#instaance method take one argument self\n",
    "\n",
    "\n",
    "#inside instance method we can accessing both instance and static variable\n"
   ]
  },
  {
   "cell_type": "code",
   "execution_count": 13,
   "metadata": {},
   "outputs": [
    {
     "name": "stdout",
     "output_type": "stream",
     "text": [
      "enter number of students 2\n",
      "enter student namedavid\n",
      "enter marks45\n",
      "enter student namegopi\n",
      "enter marks55\n",
      "gopi\n",
      "55\n",
      "B\n",
      "********************\n"
     ]
    }
   ],
   "source": [
    "class Student:\n",
    "    def __init__(self,name,marks):\n",
    "        self.name=name  #Two instance var\n",
    "        self.marks=marks\n",
    "    #it is instence  method way consider we are accessing self var\n",
    "    def display(self): #instance method holding the instance var, the first arg should be slef\n",
    "        print(self.name) \n",
    "        print(self.marks)\n",
    "    def grade(self):\n",
    "        if self.marks>=60:\n",
    "            print('A')\n",
    "        elif self.marks>=50:\n",
    "            print('B')\n",
    "        elif self.marks>=35:\n",
    "            print('pass')\n",
    "        else:\n",
    "            print('failed')\n",
    "n=int(input('enter number of students '))\n",
    "for i in range(n):\n",
    "    name=input('enter student name')\n",
    "    marks=int(input('enter marks'))\n",
    "c=Student(name,marks)\n",
    "c.display()\n",
    "c.grade()\n",
    "print('*'*20)"
   ]
  },
  {
   "cell_type": "code",
   "execution_count": 14,
   "metadata": {},
   "outputs": [],
   "source": [
    "#setter and getter methods are best examples for instance method\n",
    "#class Student:\n",
    " #   def __init__(self,name,marks):\n",
    "       # self.name=name\n",
    "        #self,marks=marks\n",
    "#s=Student('gopi',60)#one type of object creation \n",
    "\n",
    "#s=Student()\n",
    "#s.set name('gopi')\n",
    "#s.getname(100)\n",
    "#setter and getter methods are high ser\n",
    "#getter method to get the data\n",
    "#setter set the data\n",
    "\n",
    "#sef set variablesname(self,variablesname):\n",
    "    #self.variablename=variaablename"
   ]
  },
  {
   "cell_type": "code",
   "execution_count": 18,
   "metadata": {},
   "outputs": [
    {
     "name": "stdout",
     "output_type": "stream",
     "text": [
      "enter number of students 2\n",
      "enter student namegopi\n",
      "enter marks60\n",
      "enter student namenani\n",
      "enter marks70\n",
      "nani\n",
      "70\n",
      "A\n"
     ]
    }
   ],
   "source": [
    "class Test:\n",
    "    def setname(self,name):\n",
    "        self.name=name #set method if are accessing direct \n",
    "    def getname(self):\n",
    "        return self.name  # In this case can is dumi PVM will take are the con\n",
    "    def setmarks(sself,marks):\n",
    "        self.marks=marks\n",
    "    def getmarks(self):\n",
    "        return self.marks\n",
    "n=int(input('enter number of students '))\n",
    "for i in range(n):\n",
    "    name=input('enter student name')\n",
    "    marks=int(input('enter marks'))\n",
    "c=Student(name,marks)\n",
    "c.display()\n",
    "c.grade()"
   ]
  },
  {
   "cell_type": "code",
   "execution_count": 19,
   "metadata": {},
   "outputs": [],
   "source": [
    "#class methods:\n",
    "#inside class level code we are accessing only class levels data\n",
    "\n",
    "#we are not requir create object \n",
    "\n",
    "#class method call by classname,with out object reference\n",
    "\n",
    "#def m1(self): current object\n",
    "    #print(self.name)\n",
    "    #print(self.marks)\n",
    "\n",
    "#class method\n",
    "#def m2(cls): #current class level object\n",
    "\n",
    "#Inside class method we can accessing  omly vaar and we cannot access instace var "
   ]
  },
  {
   "cell_type": "code",
   "execution_count": 20,
   "metadata": {},
   "outputs": [
    {
     "name": "stdout",
     "output_type": "stream",
     "text": [
      "dog 4\n",
      "cat 4\n"
     ]
    }
   ],
   "source": [
    "class Animal:\n",
    "    legs=4 #class Level var\n",
    "    @classmethod #decortor\n",
    "    def walk(cls,name):\n",
    "        print(name,cls.legs)\n",
    "Animal.walk('dog') #by using class name\n",
    "Animal.walk('cat')"
   ]
  },
  {
   "cell_type": "code",
   "execution_count": 25,
   "metadata": {},
   "outputs": [
    {
     "name": "stdout",
     "output_type": "stream",
     "text": [
      "4\n"
     ]
    }
   ],
   "source": [
    "class Test:\n",
    "    c=0\n",
    "    def __init__(self):\n",
    "        Test.c=Test.c+1\n",
    "    @classmethod\n",
    "    def gets(cls):\n",
    "        print(cls.c)\n",
    "t1=Test()\n",
    "t2=Test()\n",
    "t3=Test()\n",
    "t4=Test()\n",
    "Test.gets()\n"
   ]
  },
  {
   "cell_type": "code",
   "execution_count": null,
   "metadata": {},
   "outputs": [],
   "source": []
  }
 ],
 "metadata": {
  "kernelspec": {
   "display_name": "Python 3",
   "language": "python",
   "name": "python3"
  },
  "language_info": {
   "codemirror_mode": {
    "name": "ipython",
    "version": 3
   },
   "file_extension": ".py",
   "mimetype": "text/x-python",
   "name": "python",
   "nbconvert_exporter": "python",
   "pygments_lexer": "ipython3",
   "version": "3.7.6"
  }
 },
 "nbformat": 4,
 "nbformat_minor": 4
}
